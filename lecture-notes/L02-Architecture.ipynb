{
 "cells": [
  {
   "cell_type": "markdown",
   "metadata": {},
   "source": [
    "# Database Architecture\n",
    "\n",
    "Architecture of DB system is influenced by underlying computer system on which the db is running:\n",
    "\n",
    "- Cntralized vs Distributed\n",
    "\n",
    "- Parallel (multi-processor)\\\n",
    "    e.g. Map-Reduce"
   ]
  },
  {
   "cell_type": "markdown",
   "metadata": {},
   "source": [
    "## Centralized DBMS\n",
    "\n",
    "Typical: Everyone interacts with a single server like so\n",
    "\n",
    "![](images/2022-10-06-22-05-55.png)"
   ]
  },
  {
   "cell_type": "markdown",
   "metadata": {},
   "source": [
    "## Distributed DBMS\n",
    "\n",
    "Either\n",
    "- multiple sites on the web\n",
    "- connected via a LAN\n",
    "\n",
    "Might require evals at diff sites + combination of results from local sites ==> one large result sent to application\n",
    "\n",
    "- **Protocols** governing interactions b/w servers\n",
    "- **Intermediate** results to be stored before being post processed into result\n",
    "\n",
    "Multiple ideas/techniques exist for moving huge data sets around web.\n",
    "\n",
    "**Cause:** Cost of network trnsmissions\n",
    "\n",
    "![](images/2022-10-06-22-06-20.png)"
   ]
  },
  {
   "cell_type": "markdown",
   "metadata": {},
   "source": [
    "## Map-Reduce\n",
    "\n",
    "One of the more prominent forms of **Parallel architecture**\n",
    "\n",
    "Origins: NoSQL. Motivated by the need to distribute LARGE (too large for a single disk) datasets over multiple servers\n",
    "\n",
    "**Mapping**: The process of evaluating a function over multiple chunks of data in parallel\n",
    "\n",
    "**Reduce**: Folding the parallel results into a single aggregate value\n",
    "\n",
    "> ayo like the stuff we learned from our professor researching functional programming languages! Except I didn't know it was meant to be done in parallel, makes sense now tho!\n",
    "\n",
    "![](images/2022-10-06-22-15-54.png)"
   ]
  },
  {
   "cell_type": "markdown",
   "metadata": {},
   "source": [
    "## Purposes of DBMSs revisited\n",
    "\n",
    "Which features of a DBMS tackles each of the following problems?\n",
    "\n",
    "- Data redundancy & Inconsistency?\n",
    "\n",
    "- Difficulty in accessing data?\n",
    "\n",
    "- Integrity problems?\n",
    "\n",
    "- Atomicity of updates? (recall the debit and credit operations being treated as an atomic operation)\n",
    "\n",
    "- Concurrent access by multiple users?\n",
    "\n",
    "- Security problems?"
   ]
  }
 ],
 "metadata": {
  "language_info": {
   "name": "python"
  },
  "orig_nbformat": 4
 },
 "nbformat": 4,
 "nbformat_minor": 2
}

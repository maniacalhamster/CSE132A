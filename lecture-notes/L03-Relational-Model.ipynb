{
 "cells": [
  {
   "cell_type": "markdown",
   "metadata": {},
   "source": [
    "# Relational Model\n",
    "\n",
    "- DB consists of several **tables** (i.e. **relations**)\n",
    "\n",
    "```\n",
    "Example:\n",
    "\n",
    "Customer:\n",
    "CustId, Name, Street, City, State\n",
    "\n",
    "Account:\n",
    "AccountNum, Balance\n",
    "\n",
    "Depositor:\n",
    "CustID, AccountNum\n",
    "```\n",
    "\n",
    "- Columns in the table are named by **attributes**\n",
    "\n",
    "- Each attribute has an associated **domain**\\\n",
    "    (set of allowed values, e.g. Customer.State: {CA, NY, WA, ...})\n",
    "\n",
    "- Data in a table consists of a set of **rows** (**tuples**)\\\n",
    "    (providing values for the attributes)"
   ]
  },
  {
   "cell_type": "markdown",
   "metadata": {},
   "source": [
    "### Relational Model Example\n",
    "\n",
    "![](images/2022-10-06-22-23-14.png)"
   ]
  },
  {
   "cell_type": "markdown",
   "metadata": {},
   "source": [
    "### Relational Schema\n",
    "\n",
    "> \"think of it as a type declaration - i.e. just the type of the data\"\n",
    "\n",
    "Useful to ENFORCE data structure to keep database consistently structured and \"clean\"\n",
    "\n",
    "Consists of:\n",
    "- Relation name\n",
    "\n",
    "- Set of attributes\n",
    "\n",
    "- Domain of each attribute\n",
    "\n",
    "- Integrity constraints\n",
    "\n",
    "`e.g. CUSTOMER(CustID, Name, Street, City)`"
   ]
  },
  {
   "cell_type": "markdown",
   "metadata": {},
   "source": [
    "### Attribute Types\n",
    "\n",
    "Each attribute of a relation has a\n",
    "- Name\n",
    "- **Domain**: Set of allowed values\n",
    "\n",
    "Attribute values are (normally) required to be atomic; that is indivisible (i.e. PRIMITIVE)\n",
    "\n",
    "- Somtimes, special value **null** is considered a member of EVERY domain"
   ]
  },
  {
   "cell_type": "markdown",
   "metadata": {},
   "source": [
    "### Relational Instance\n",
    "\n",
    "> \"current content of the relation\"\n",
    "\n",
    "Consists of \n",
    "- set of rows (tuples)\n",
    "- over the attributes\n",
    "- holding values from their domains\n",
    "\n",
    "![](images/2022-10-06-22-27-48.png)"
   ]
  },
  {
   "cell_type": "markdown",
   "metadata": {},
   "source": [
    "### Relations are Unordered\n",
    "\n",
    "Tuples are not considered to be ordered, even though they APPEAR SO when displayed in tabular form\n",
    "\n",
    "> \"underlying system has no guarantee. The output is non-deterministic\"\n"
   ]
  },
  {
   "cell_type": "markdown",
   "metadata": {},
   "source": [
    "### Tuples: Some Notation\n",
    "\n",
    "- **Component values/coordinates** of a tuple t: $t(A)_j$\\\n",
    "    Value of attribute $A_i$ for tuple $t$\n",
    "\n",
    "- **Subtuple** of a tuple t: $t(A_i, A_j, ..., A_k)$\\\n",
    "    The subtuple of $t$ containing the values of attributes $A_i, A_j, ..., A_k$\n",
    "\n",
    "> Attribute / tuple values are generally assumed to be ordered according to schema. Think of it as the schema being rigid and set while the data that fills in that mold is fluid and dynamic and unpredictible. \n",
    "\n",
    "![](images/2022-10-06-22-46-01.png)\n",
    "\n",
    "```\n",
    "t = <4, \"Fred Flintstone\", \"First Av\", \"SD\">\n",
    "\n",
    "t(Name) = \"Fred Flinstone\"\n",
    "\n",
    "t(Street) = \"First Av\"\n",
    "```"
   ]
  },
  {
   "cell_type": "markdown",
   "metadata": {},
   "source": [
    "## Database\n",
    "\n",
    "Consistts of multiple relations\n",
    "\n",
    "Information about an application is broken up into parts\\\n",
    "Each relation stores one part of the information\n",
    "\n",
    "e.g. separation of bank app info into relations for:\n",
    "- Account\n",
    "- Depositor\n",
    "- Customer\n",
    "\n",
    "Q: Why not just a single relation?\n",
    "\n",
    "A: possible, but not desirable.\n",
    "\n",
    "Issues\n",
    "- repetition of info\n",
    "- need for null values\n",
    "\n",
    "More details into evaluating schemas as being \"well designed\" or \"not well designed\". + what can be done to turn a poorly designed schema into a good one.\n",
    "\n",
    "There is actually been a mature (i.e. established) theory behind all of this\n",
    "- like specific formalized definitions for good/bad design\n",
    "- like algorithms to transform bad designs --> good designs\n",
    "\n",
    "> \"Extremely useful skillset. Also happens to be lucrative. Usually called in as a DB consultant to clean house on someone else's spaghetti code\""
   ]
  },
  {
   "cell_type": "markdown",
   "metadata": {},
   "source": [
    "## Relational Integrity Constraints \n",
    "\n",
    "> \"First class citizens!\"\n",
    " \n",
    "- **Constraints**: conditions that MUST HOLD on all valid relation instances of a database\n",
    "\n",
    "Common types\n",
    "- Key constraints\n",
    "- Entity integrity constriants\n",
    "- Refential integrity constraints"
   ]
  },
  {
   "cell_type": "markdown",
   "metadata": {},
   "source": [
    "### Key Constraints\n",
    "\n",
    "- **Superkey** of a relation R: A set of attributes $SK \\in R$ s.t. NO TWO tuples in ANY VALID RELATION INSTANCE r(R) will have the same value for SK. (i.e. $\\forall t1, t2 \\in r(R), t1(SK) \\neq t2(SK)$) (i.e. uniuely identifies the tuple)\n",
    "\n",
    "- **Key** of a relation R: A \"minimal\" superkey; that is , a superkey K s.t. removal of ANY attribute from K results in a set of attributes that is NOT a superkey (i.e. no longer uniquely identifies the tuple)\n",
    "\n",
    "- If a relation has SEVERAL **candidate keys**, one is chosen arbitrarily to be the **primary key** (typically underlined)\n",
    "\n",
    "![](images/2022-10-07-00-34-55.png)"
   ]
  },
  {
   "cell_type": "markdown",
   "metadata": {},
   "source": [
    "#### A more realistic example of keys\n",
    "\n",
    "Schema:\n",
    "\n",
    "![](images/2022-10-07-00-35-25.png)\n",
    "\n",
    "Instantiation:\n",
    "\n",
    "![](images/2022-10-07-00-37-26.png)"
   ]
  },
  {
   "cell_type": "markdown",
   "metadata": {},
   "source": [
    "## Entity Integrity\n",
    "\n",
    "**primary key attributes** (PK) of each relation schema R in S CANNOT have null values in ANY tuple since PK vals are used to ID individual tuples\n",
    "\n",
    "$t(A) \\neq \\text{null}$ for any tuple $t$ in a valid instance of R, where $A \\in PK$\n",
    "\n",
    "\n",
    "> NOTE: other attributes of R may be similarly constrained to disallow null values even if they're not members of the primary key"
   ]
  },
  {
   "cell_type": "markdown",
   "metadata": {},
   "source": [
    "## Referential Integrity\n",
    "\n",
    "- involves 2 relations of the database (as opposed to the single relation constraints prior)\n",
    "\n",
    "- used to specify a **relationship** among tuples in 2 relations:\n",
    "  - **referencing relation**\n",
    "  - **referenced relation**\n",
    "\n",
    "- Tuples in the **referencing relation** $R_1$ have attributes FK (**foreign key** attributes)\n",
    "\n",
    "- FK reference the attributes PK (**primary key** attributes) of the **referenced relation** $R_2$\n",
    "\n",
    "$\\forall t_1 \\in R_1$ where $t_1$ is said to **referene** a tuple $t_2 \\in R_2$ ==> $t_1(FK) = t_2(PK)$\n",
    "\n",
    "- referential integrity constraint can be displayed in a relational db schema as a directed arc from $R_1.FK$ to $R_2.PK$"
   ]
  },
  {
   "cell_type": "markdown",
   "metadata": {},
   "source": [
    "#### Example\n",
    "\n",
    "![](images/2022-10-07-00-44-58.png)"
   ]
  },
  {
   "cell_type": "markdown",
   "metadata": {},
   "source": [
    "### Statement of the constraint\n",
    "\n",
    "The value in the foreign key column(s) FK of the **referencing relation** $R_1$ can be either\n",
    "1. a value of a primary key PK in the **referenced relation** $R_2$ \n",
    "2. OR null\n",
    "    - in this case, the FK in $R_1$ should NOT intersect its own primary key (or else, ENTITY integrity is violated)"
   ]
  },
  {
   "cell_type": "markdown",
   "metadata": {},
   "source": [
    "## Other types of constraints\n",
    "\n",
    "More sophisticated and depend on application on hand\n",
    "\n",
    "- **Semantic Integrity Constraints**: based on application semantics and cannot be expressed by the model per se\n",
    "\n",
    "#### Example\n",
    "\n",
    "\"the max no of hours per employee for all projects they work on is 56hrs/week\"\n",
    "\n",
    "- constraint speciic language may have to be used to express these\n",
    "\n",
    "- SQL-99 sllows triggers and ASSERTIONS to support some of these"
   ]
  }
 ],
 "metadata": {
  "kernelspec": {
   "display_name": "Python 3.10.1 64-bit",
   "language": "python",
   "name": "python3"
  },
  "language_info": {
   "name": "python",
   "version": "3.10.1"
  },
  "orig_nbformat": 4,
  "vscode": {
   "interpreter": {
    "hash": "40430081c420884bc0c6cacdd19468c594457515a272ed1024804e3b83ddb8db"
   }
  }
 },
 "nbformat": 4,
 "nbformat_minor": 2
}

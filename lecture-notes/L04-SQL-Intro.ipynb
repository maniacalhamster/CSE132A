{
 "cells": [
  {
   "cell_type": "markdown",
   "metadata": {},
   "source": [
    "# SQL \n",
    "- Data Definition Language (DDL)\n",
    "- Data Manipulation Language (DML)"
   ]
  },
  {
   "cell_type": "markdown",
   "metadata": {},
   "source": [
    "## DDL\n",
    "\n",
    "Consists of:\n",
    "- **Schema** specs for each relation\n",
    "- **Domain** of values assoc w/ attributes\n",
    "- Integrity **constraints**\n",
    "- set of **Indices** to be maintained\n",
    "- Access rights (security/authorization) info per relation\n",
    "- Physical storage structure to disk per relation"
   ]
  },
  {
   "cell_type": "markdown",
   "metadata": {},
   "source": [
    "### CREATE TABLE relationName\n",
    "```sql\n",
    "CREATE TABLE relationName\n",
    "  (attrName Domain,\n",
    "   attrName2, Doain2,\n",
    "   ...\n",
    "   (integrity-constraint),\n",
    "   (integrity-constraint2)\n",
    "  )\n",
    "```"
   ]
  },
  {
   "cell_type": "markdown",
   "metadata": {},
   "source": [
    "#### Domain Types\n",
    "- char(n):    fixed length string\n",
    "- varchar(n): var length w/ upperbounded by user-specified max\n",
    "- int\n",
    "- smallint\n",
    "- numeric(p, d)\n",
    "- real, double precision\n",
    "- float\n",
    "- etc."
   ]
  },
  {
   "cell_type": "markdown",
   "metadata": {},
   "source": [
    "#### Integrity Constraints\n",
    "```\n",
    "  PRIMARY KEY ()\n",
    "  UNIQUE      ()\n",
    "  FOREIGN KEY () REFERENCES relationName\n",
    "```"
   ]
  },
  {
   "cell_type": "markdown",
   "metadata": {},
   "source": [
    "### DROP TABLE relationName\n",
    "- deletes data AND definition"
   ]
  },
  {
   "cell_type": "markdown",
   "metadata": {},
   "source": [
    "### ALTER TABLE relationName\n",
    "- `ADD attribName attribDomain`\n",
    "  - All tuples in relation are assigned default null for new attr\n",
    "  - thus, cannot define added attributes w/ NOT NULL constraint\n",
    "- `DROP attribNAme`\n",
    "  - Dropping attrib not supported by many DBMSs"
   ]
  },
  {
   "cell_type": "markdown",
   "metadata": {},
   "source": [
    "## Integrity Constraints\n",
    "- Guard against accidental damage to the database\n",
    "(authorized changes MUST conform to ensure data consistency)\n",
    "\n",
    "Single Relations\n",
    "- Not Null\n",
    "- Primary Key\n",
    "- Unique\n",
    "- Check(P) for predicate P\n",
    "\n",
    "Multiple Relations\n",
    "- Foreign Key"
   ]
  },
  {
   "cell_type": "markdown",
   "metadata": {},
   "source": [
    "### NOT NULL \n",
    "\n",
    "Attrib does not accept null values\n",
    "\n",
    "Specified as part of\n",
    "- def of attr in CREATE TABLE \n",
    "- def of domain in CREATE DOMAIN"
   ]
  },
  {
   "cell_type": "markdown",
   "metadata": {},
   "source": [
    "### UNIQUE\n",
    "(AttrName1, ..., AttrNamen)\n",
    "\n",
    "Set of attrib form a candidate key\n",
    "- permitted to be null (as opposed to PrimKey)"
   ]
  },
  {
   "cell_type": "markdown",
   "metadata": {},
   "source": [
    "### CHECK\n",
    "\n",
    "Enforce predicate (condition)\n",
    "\n",
    "Can be used to constrain domains\n",
    "\n",
    "Can be named (useful to indicate which conastraint an update violated)\n",
    "\n",
    "```sql\n",
    "CREATE DOMAIN hourly_wage numeric (5,2)\n",
    "CONSTRAINT name CHECK (value >= 4.00)\n",
    "```"
   ]
  },
  {
   "cell_type": "markdown",
   "metadata": {},
   "source": [
    "## Referential Integrity\n",
    "\n",
    "In CREATE TABLE statement we can use the following clauses:\n",
    "- PRIMARY KEY (attribName)\n",
    "- UNIQUE KEY (attribName)\n",
    "- FOREIGN KEY (attribName) REFERENCES relationName "
   ]
  },
  {
   "cell_type": "markdown",
   "metadata": {},
   "source": [
    "## SQL DML\n",
    "\n",
    "Primarily **declarative** QL \n",
    "- specify what to compute, not how\n",
    "\n",
    "Starting Point: relational calculus\n",
    "- aka first-order predicate logic\n",
    "\n",
    "+additions (bells and whistles)\n",
    "\n",
    "Corresponding procedural lang: relational algebra\n",
    " \n",
    "Defn of Algebra in the broadest sense:\n",
    "> as a collection of operations that I can call and pipe around into arbitrarily complex expressions which will translate into algorithms describing HOW query should be executed\n",
    "\n",
    "Time to explore the API (SQL)"
   ]
  },
  {
   "cell_type": "markdown",
   "metadata": {},
   "source": [
    "### Basic Form\n",
    "\n",
    "**Syntax**:\n",
    "- SELECT attribName1, ..., attribNameN\n",
    "\n",
    "- FROM relationName1, ..., relationNameN\n",
    "\n",
    "- (opt) WHERE condition\n",
    "\n",
    "Notation `<RelationName>.<AttributeName>`\n",
    "\n",
    "Whem more than one relation of the FROM attribute named `A`, we refer to a specific `A` attribute as `<RelationName>.A`"
   ]
  },
  {
   "cell_type": "markdown",
   "metadata": {},
   "source": [
    "### SQL Query Examples\n",
    "\n",
    "Find titles of currently plaing movies\n",
    "\n",
    "SELECT Title\\\n",
    "FROM Scedule\n",
    "\n",
    "Find titles of all movies by \"Berto\"\n",
    "\n",
    "SELECT Title\\\n",
    "FROM Movie\\\n",
    "WHERE Director=\"Berto\"\n",
    "\n",
    "Fnd the titles and the directors of all currently playing movies\n",
    "\n",
    "SELECT Movie.Title, Director\n",
    "FROM Movie, Schehdule\n",
    "WHERE Movie.Title = Schedule.Title"
   ]
  }
 ],
 "metadata": {
  "kernelspec": {
   "display_name": "Python 3.10.1 64-bit",
   "language": "python",
   "name": "python3"
  },
  "language_info": {
   "name": "python",
   "version": "3.10.8"
  },
  "orig_nbformat": 4,
  "vscode": {
   "interpreter": {
    "hash": "40430081c420884bc0c6cacdd19468c594457515a272ed1024804e3b83ddb8db"
   }
  }
 },
 "nbformat": 4,
 "nbformat_minor": 2
}

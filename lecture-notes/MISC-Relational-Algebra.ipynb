{
 "cells": [
  {
   "cell_type": "markdown",
   "metadata": {},
   "source": [
    "# Relational Algebra\n",
    "\n",
    "Procedural language consisting of a set of operations that take 1-2 relations as input and produce a new relation as their result\n",
    "\n",
    "6 basic operators\n",
    "- select: $\\sigma$\n",
    "- project: $\\Pi$\n",
    "- union: $\\cup$\n",
    "- set difference: $-$\n",
    "- Cartesian product: $\\times$\n",
    "- rename: $\\rho$"
   ]
  },
  {
   "cell_type": "markdown",
   "metadata": {},
   "source": [
    "## Select Operation\n",
    "\n",
    "Selects tuples that satisfy a given predicate\n",
    "\n",
    "$$ \\sigma_p (r) $$\n",
    "\n",
    "$p$: **selection predicate**\n",
    "\n",
    "> Example: select tuples of the *instructor* relation where the instructor is in the \"Physics\" department\n",
    "\n",
    "Query: $\\sigma_{dept\\_name = \"Physics\"}(instructor)$"
   ]
  },
  {
   "cell_type": "markdown",
   "metadata": {},
   "source": [
    "### Selection predicate\n",
    "\n",
    "Allows comparisons using\n",
    "- =\n",
    "- $\\neq$\n",
    "- \\>\n",
    "- $\\geq$\n",
    "- \\<\n",
    "- $\\leq$\n",
    "\n",
    "Can combine several predicates into a larger predicate using connectives:\n",
    "- $\\wedge$ (AND)\n",
    "- $\\vee$ (OR)\n",
    "- $\\neg$ (NOT)\n",
    "\n",
    "> Example: Find instructors in Physics w/ a salary greater than $90K\n",
    "$$ \\sigma_{dept\\_name=\"Physics\" \\wedge salary > 90,000}(instructor) $$\n",
    "\n",
    "May include comparisons between 2 attributes\n",
    "\n",
    "> Example: Find all departments whose name is the same as their building name:\n",
    "$$ \\sigma_{dept\\_name=building}(instructor) $$\n",
    "\n",
    "\n"
   ]
  },
  {
   "cell_type": "markdown",
   "metadata": {},
   "source": [
    "## Project Operation\n",
    "\n",
    "Unary operation that returns it's argument relation, w/ certain attributes left out\n",
    "\n",
    "$$ \\Pi_{A_1, A_2, A_3, \\dots, A_k} (r) $$\n",
    "\n",
    "$A_n$ are attribute names and $r$ is the relation name\n",
    "\n",
    "Result is defined as the relation of (k) columns obtained by erasing the columns that are nto listed.\n",
    "\n",
    "Duplicate rows removed from result, since relations are sets\n",
    "\n",
    "> Example: eliminate the *dept_name* attribute of *instructor*\n",
    "\n",
    "Query: $ \\Pi_{ID, name, salary} (instructor) $"
   ]
  },
  {
   "cell_type": "markdown",
   "metadata": {},
   "source": [
    "## Composition of Relational Operations\n",
    "\n",
    "Relational-algebra operations result in a relation, thus they can be composed together into a **relational-algebra expression**\n",
    "\n",
    "> Example: Find the names of all instructors in the Physics department\n",
    "\n",
    "Query: $\\Pi_{name}( \\sigma_{dept\\_name = \"Physics\"}(instructor) )$\n",
    "\n",
    "Projection operation ($\\Pi$) doesn't just take name of relation as arg, it takes an expression that evaluates to a relation"
   ]
  },
  {
   "cell_type": "markdown",
   "metadata": {},
   "source": [
    "## Cartesian-Product Operation\n",
    "\n",
    "Allows combination of any 2 relations\n",
    "\n",
    "> Exmaple: Cartesian product of relations *instructor* and *teaches* is written as: $instructor \\times teaches$\n",
    "\n",
    "Construct tuple of result out of each possible pair of tuples: 1 from each relationn\n",
    "- NOTE: every tuple from respective relations are associated with eachother, even if they're NOT related (e.g. with shared Candidate Key)\n",
    "\n",
    "Duplicate attributes (like ID) are distinguished with the name of the relation from which the attribute originally came\n",
    "- $instructor.ID$\n",
    "- $teaches.ID$"
   ]
  },
  {
   "cell_type": "markdown",
   "metadata": {},
   "source": [
    "## Join Operation\n",
    "\n",
    "To get only those tuples of \"$instructor \\times teaches$\" that pertain to instructors and the courses they taught:\n",
    "\n",
    "$$ \\sigma_{instructor.id = teaches.id}(instructor \\times teaches)$$\n",
    "\n",
    "**join** operation combines SELECT and Cartesian-Product operations into one\n",
    "\n",
    "Consider relations r (R) and s (A)\n",
    "\n",
    "Let $theta$ be a predicate on attributes in the schema R \"union\" S. The join operation is defined as follows:\n",
    "\n",
    "$$ r \\bowtie_\\theta s = \\sigma_\\theta(r \\times s) $$\n",
    "\n",
    "Thus the join between the instructors and teaches relation can be written as:\n",
    "\n",
    "$$ instructor \\bowtie_{instructor.id = teaches.id} teaches $$\n",
    "\n"
   ]
  },
  {
   "cell_type": "markdown",
   "metadata": {},
   "source": [
    "## Union Operation\n",
    "\n",
    "Allows combination of 2 relation\n",
    "\n",
    "$$ r \\cup s$$\n",
    "\n",
    "\n",
    "For the union to be valid,\n",
    "1. r, s must have the *same* **arity** (# atrrributes)\n",
    "2. attribute domains must be **compatible** (i.e. columns must work w/ the same types of values)\n",
    "\n",
    "> Example: find all courses taught in the Fall 2017 semester OR in the Spring 2018, OR in both:\n",
    "\n",
    "$$ \n",
    "\\Pi_{course\\_id}(\\sigma_{semester=\"Fall\" \\wedge year=2017}(section)) \\cup \\\\\n",
    "\\Pi_{course\\_id}(\\sigma_{semester=\"Spring\" \\wedge year=2018}(section))\n",
    "$$\n"
   ]
  },
  {
   "cell_type": "markdown",
   "metadata": {},
   "source": [
    "## Set-Intersection Operation\n",
    "\n",
    "Find tuples that are in both the input relations\n",
    "\n",
    "$$ r \\cap s $$\n",
    "\n",
    "Assume:\n",
    "- r, s have the *same **arity*** (# attributes)\n",
    "- attributes of r and s are **compatible**\n",
    "\n",
    "> Example: Find the set of all courses taught in both the Fall 2017 and the Spring 2018 semesters\n",
    "\n",
    "$$ \n",
    "\\Pi_{course\\_id}(\\sigma_{semester=\"Fall\" \\wedge year=2017}(section)) \\cap \\\\\n",
    "\\Pi_{course\\_id}(\\sigma_{semester=\"Spring\" \\wedge year=2018}(section))\n",
    "$$"
   ]
  },
  {
   "cell_type": "markdown",
   "metadata": {},
   "source": [
    "## Set Difference Operation\n",
    "\n",
    "Find tuples that are in one relation but are not in another\n",
    "\n",
    "$$ r - s $$\n",
    "\n",
    "Set differences must be taken between **compatible** relations\n",
    "- r and s must have the *same **arity***\n",
    "- attribute domains of r and s must be **commpatible**\n",
    "\n",
    "> Example: find all courses taught in Fall 2017 semester, but not in Sprint 2018 semester\n",
    "\n",
    "$$ \n",
    "\\Pi_{course\\_id}(\\sigma_{semester=\"Fall\" \\wedge year=2017}(section)) -\\\\\n",
    "\\Pi_{course\\_id}(\\sigma_{semester=\"Spring\" \\wedge year=2018}(section))\n",
    "$$"
   ]
  },
  {
   "cell_type": "markdown",
   "metadata": {},
   "source": [
    "## The Assignment Operation\n",
    "\n",
    "Temporary relation variables are convenient when writing relational-algebra expressions\n",
    "\n",
    "Denoted by \"$\\leftarrow$\" and works like assignment in programming\n",
    "\n",
    "> Example: Find all instructors in the Physics and Music department\n",
    "\n",
    "$$\n",
    "Physics \\leftarrow \\sigma_{dept\\_name=\"Physics\"}(instructor) \\\\\n",
    "Music \\leftarrow \\sigma_{dept\\_name=\"Music\"}(instructor) \\\\\n",
    "Physics \\cup Music\n",
    "$$\n",
    "\n",
    "Query can be written as a sequential program consisting of a series of assignments followed by an expression whose value is displayed as the result of the query"
   ]
  },
  {
   "cell_type": "markdown",
   "metadata": {},
   "source": [
    "## The Rename Operation\n",
    "\n",
    "The result of relational-algebra expressions do not have a name that we can use to refer to them. The rename operator ($\\rho$) is provided for that purpose\n",
    "\n",
    "$\\rho_x(E)$: returns the result of expression $E$ under the name $x$\n",
    "\n",
    "Another form:\n",
    "$$ \\rho_{x(A_1, A_2, \\dots, A_n)}(E) $$"
   ]
  },
  {
   "cell_type": "markdown",
   "metadata": {},
   "source": [
    "# Equivalent Queries\n",
    "\n",
    "As in programming, there's many ways to write a query \n",
    "\n",
    "> Example: Find information about courses taught by instructors in the Physics department with salary greater than 90,000\n",
    "\n",
    "Query 1: $\\sigma_{dept\\_name = \"Physics\" \\wedge salary > 90,000}(instructor)$\n",
    "\n",
    "Query 2: $\\sigma_{dept\\_name = \"Physics\"}(\\sigma_{salary > 90,000}(instructor))$\n",
    "\n",
    "NOT IDENTICAL, but equiavalent ==> they give same result on any database"
   ]
  },
  {
   "cell_type": "markdown",
   "metadata": {},
   "source": [
    "> Example: Find information about courses taught by instructors in the Physics department\n",
    "\n",
    "Query 1: $\\sigma_{dept\\_name = \"Physics\"}(instructor \\bowtie_{instructor.ID = teaches.ID} teaches)$\n",
    "\n",
    "Query 2: $\\sigma_{dept\\_name = \"Physics\"}(\\sigma_{salary > 90,000}(instructor))$\n",
    "\n"
   ]
  },
  {
   "cell_type": "markdown",
   "metadata": {},
   "source": []
  }
 ],
 "metadata": {
  "kernelspec": {
   "display_name": "Python 3.10.1 64-bit",
   "language": "python",
   "name": "python3"
  },
  "language_info": {
   "name": "python",
   "version": "3.10.1"
  },
  "orig_nbformat": 4,
  "vscode": {
   "interpreter": {
    "hash": "40430081c420884bc0c6cacdd19468c594457515a272ed1024804e3b83ddb8db"
   }
  }
 },
 "nbformat": 4,
 "nbformat_minor": 2
}

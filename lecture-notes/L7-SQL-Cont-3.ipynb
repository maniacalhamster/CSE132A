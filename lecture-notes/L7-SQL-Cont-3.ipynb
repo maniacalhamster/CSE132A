{
 "cells": [
  {
   "cell_type": "markdown",
   "metadata": {},
   "source": [
    "#### Recall: Nesting Example from last time\n",
    "\n",
    "```sql\n",
    "SELECT  Actor\n",
    "FROM    Movie\n",
    "WHERE   title IN (\n",
    "                    SELECT  title\n",
    "                    FROM    Movie\n",
    "                    WHERE   director = \"Bertolucci\"\n",
    "                )\n",
    "```"
   ]
  },
  {
   "cell_type": "markdown",
   "metadata": {},
   "source": [
    "We can actually eliminate nesting:\n",
    "\n",
    "```sql\n",
    "SELECT  m1.actor\n",
    "FROM    Movie m1, Movie m2\n",
    "WHERE   m1.title = m2.title AND\n",
    "        m2.director = \"Bertolucci\"\n",
    "```\n",
    "\n",
    "Piazza post noted that the nesting example was overcomplicated and ran through the table twice, was just for showcasing nested queries\n",
    "\n",
    "Q: why do we need m1 and m2?\n",
    "A: we need to diambiguate between tuples w/ similar titles (otherwise would refer to the same exact tuple)"
   ]
  },
  {
   "cell_type": "markdown",
   "metadata": {},
   "source": [
    "Also it would suffice to just do\n",
    "\n",
    "```sql\n",
    "SELECT  DISTINCT actor\n",
    "FROM    Movie\n",
    "WHERE   director = \"Bertolucci\"\n",
    "```"
   ]
  },
  {
   "cell_type": "markdown",
   "metadata": {},
   "source": [
    "#### Question\n",
    "\n",
    "Can we always eliminate nesting?\n",
    "\n",
    "Queries involving nesting but **no negation** can always be unnested in contrast to queries with nesting and negation\n",
    "\n",
    "Negation in the WHERE clause necessitates nesting"
   ]
  },
  {
   "cell_type": "markdown",
   "metadata": {},
   "source": [
    "## Correlated Nested Queries\n",
    "\n",
    "If condition in WHERE clause of *nestED query* references an attribute of a relation declared in the *outer query*, the two queries are said to be correlated\n",
    "\n",
    "Result of a correlated nested query may be different for each tuple (or combinations of tuples) of the relation(s) the outer query\n",
    "\n",
    "EX: Retrieve the name of each employee who has a dependent with the same first name as the employee\n",
    "\n",
    "```sql\n",
    "SELECT  E.FNAME, E.LNAME\n",
    "FROM    EMPLOYEE E\n",
    "WHERE   E.SSN IN (\n",
    "    SELECT  ESSN\n",
    "    FROM    DEPENDENT\n",
    "    WHERE   ESSN=E.SSN\n",
    "        AND E.FNAME=DEPENDENT_NAME\n",
    ")\n",
    "```\n",
    "\n",
    "> NOTE: The nestd query gets recomputed each time due to correlation (it depends on `E.SSN`). As opposed to the movie by Bertolucci being the same each time and not needing to be recomputed"
   ]
  },
  {
   "cell_type": "markdown",
   "metadata": {},
   "source": [
    "Can also be flattened by concatenating the FROM clauses\n",
    "\n",
    "```sql\n",
    "SELECT  E.FNAME, E.LNAME\n",
    "FROM    EMPLOYEE E, DEPENDENT D\n",
    "WHERE   E.SSN=D.ESSN AND \n",
    "        E.FNAME=D.DEPENDENT_NAME\n",
    "```\n",
    "\n",
    "membership test made expicit instead of implicit\n",
    "\n",
    "> NOTE: nesting might not preserve multiplicity. \n",
    " \n",
    "The nested version of this goes through each Employee just once, even if multiple dependents from the nested query satisfy the condition and so the outer query, which only runs once, would only return the Employee once - even if multiple dependents shared the employee's first name.\n",
    "\n",
    "The flattened one, on the other hand, iterates Employees alongside Dependents (think of |E| x |D| input domain as opposed to the nested queries |E| domain against the conditional |D| nested query). Thus it'll return the Employee for each dependent that shares their first name."
   ]
  },
  {
   "cell_type": "markdown",
   "metadata": {},
   "source": [
    "## Simple use of NOT IN\n",
    "\n",
    "Ex: Find all movies in which Hitchcock **does not** act\n",
    "\n",
    "```sql\n",
    "SELECT  title FROM Movie\n",
    "WHERE   title NOT IN\n",
    "    (\n",
    "        SELECT  title FROM Movie\n",
    "        WHERE   actor = 'Hitchcock'\n",
    "    )\n",
    "```\n",
    "\n",
    "Notice: the lack of correlation. So the nested query will compute the same way each time.\n",
    "\n",
    "Outer loop iterates movies and selects those whose titles contained within the container of titles w/o Hitchcock as an actor."
   ]
  },
  {
   "cell_type": "markdown",
   "metadata": {},
   "source": [
    "#### Q: Why can't you flatten it like this?\n",
    "\n",
    "Natural tendency to try to flatten it like so...\n",
    "\n",
    "```sql\n",
    "SELECT  m1.title\n",
    "FROM    Movie m1, Movie m2\n",
    "WHERE   NOT (m1.title = m2.title)       -- WHERE    m1.title <> m2.title\n",
    "        AND m2.actor = 'Hitchcock'\n",
    "```\n",
    "\n",
    "Think of why this doesn't work? (It's more than just a multiplicity diff too!)\n",
    "\n",
    "Flattened version will be LESS selective than the nested version, now think of why...\n",
    "\n",
    "#### A: slightly counterintuitive way in which data is modeled in tables\n",
    "\n",
    "Outer iteration of m1 through Movies\n",
    "- Iterate m2 through Movies until \n",
    "  - a distinct title (m1.title <> m2.title) is found \n",
    "    - AND (m2.actor = 'Hitchcock')\n",
    "      - This will JUMP to conclusions and break the nested loop early\n",
    "        as soon as the first actor isn't Hitchcock, it'll return the title\n",
    "        but Hitchcock could very well have been in another tuple\n",
    "\n",
    "Tl;dr query on bottom will not wait, it jumps the gun due to interleaved loops. "
   ]
  }
 ],
 "metadata": {
  "kernelspec": {
   "display_name": "Python 3.10.1 64-bit",
   "language": "python",
   "name": "python3"
  },
  "language_info": {
   "name": "python",
   "version": "3.10.1"
  },
  "orig_nbformat": 4,
  "vscode": {
   "interpreter": {
    "hash": "40430081c420884bc0c6cacdd19468c594457515a272ed1024804e3b83ddb8db"
   }
  }
 },
 "nbformat": 4,
 "nbformat_minor": 2
}

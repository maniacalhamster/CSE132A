{
 "cells": [
  {
   "cell_type": "markdown",
   "metadata": {},
   "source": [
    "## View Updates\n",
    "\n",
    "EX: Consider view of all loan data in the loan relation,\n",
    "hiding the amount attr:\n",
    "\n",
    "```sql\n",
    "CREATE VIEW \tbranch_loan AS\n",
    "\tSELECT \tbranch_name, loan_number\n",
    "\tFROM\t\tloan\n",
    "```\n",
    "\n",
    "Adding a tuple to the view like so:\n",
    "```sql\n",
    "INSERT INTO \tbranch_loan\n",
    "\tVALUES\t('L-307', 'La Jolla')\n",
    "```\n",
    "\n",
    "leads to the insertion of the tuple `('L-307', 'La Jolla',\n",
    "null)` into the loan relation.\n",
    "\n",
    "Any unspecified values will default (if default val exists)\n",
    "or be null. \n",
    "\n",
    "If neither default val exist nor null values\n",
    "are allowed (via constraints), then the insertion will be\n",
    "rejected\n"
   ]
  },
  {
   "cell_type": "markdown",
   "metadata": {},
   "source": [
    "Updates are only allowed on views with:\n",
    "- no aggregates \n",
    "- no group-by\n",
    "- no tuple aliases \n",
    "- single base table definition\n",
    "- naturally mapping of updates to underlying base tables\n",
    "\n",
    "Any other views has no guarantee: might not uniquely transform an update on view --> update on the base table\n",
    "\n",
    "Hence, most SQL implementations only allow updates on a very restricted class of your definitions\n"
   ]
  },
  {
   "cell_type": "markdown",
   "metadata": {},
   "source": [
    "EX: \n",
    "\n",
    "```sql\n",
    "CREATE VIEW\tBerto-titles AS\n",
    "\tSELECT\ttitle\n",
    "\tFROM\t\tmovie\n",
    "\tWHERE\tdirector='Bertolucci'\n",
    "```\n",
    "\n",
    "DELETE a title T in view:\n",
    " - delete all tuples with title T from movie (note: there will be tuples for every Actor in the movie)\n",
    "\n",
    "INSERT a title T in view:\n",
    " - insert `<T, \"Bertolucci\", NULL>` in movie (don't know Actor)\n",
    "\n",
    "Update \"Sky\" to \"Sheltering Sky\" in view\n",
    "``` sql \n",
    "UPDATE movie\n",
    "\tSET\t\ttitle = 'Sheltering Sky'\n",
    "\tWHERE \tdirector = 'Bertolucci' \n",
    "\t\tAND\ttitle = 'Sky'\n",
    "```\n",
    "\n",
    "DBMS performs all these translations under the hood"
   ]
  },
  {
   "cell_type": "markdown",
   "metadata": {},
   "source": [
    "### More complicated example\n",
    "\n",
    "```sql\n",
    "CREATE VIEW \tSame AS\n",
    "\tSELECT\tt.theater, s.theater\n",
    "\tFROM\t\tschedule t, schedule s\n",
    "\tWHERE\tt.title = s.title\n",
    "```\n",
    "\n",
    "Insertion of <Ken, Hillcrest> into Same\n",
    "\n",
    "> Problem: Cannot be mapped to an update of \"Movie\" \n",
    "(the common title is unknown)\n",
    "\n",
    "Cause: the view loses information. It uses more information \n",
    "in the WHERE than is displayed in the output of SELECT\n",
    "\n",
    "Similar problems arise for DELETE and UPDATES\n",
    "\n",
    "Such view updates are **prohibited**"
   ]
  },
  {
   "cell_type": "markdown",
   "metadata": {},
   "source": [
    "# Assertions\n",
    "\n",
    "Defines a constraint the database must satisfy\n",
    "\n",
    "**Syntax**: \n",
    "```sql\n",
    "CREATE ASSERTION \t<assertion-name>\n",
    "\t\tCHECK\t<predicate>\n",
    "```\n",
    "\n",
    "When assertion is made, system handles validty checks,\n",
    "and tests it again on every update that might violate\n",
    "the assertion\n",
    "\n",
    "> Note: testing may introduce a significant amount of \n",
    "overhead; hence assertions should be used with great care.\n",
    "\n",
    "Asserting `for all X, P(X)` predicates are achieved in a \n",
    "round-about fashion using `not exists X s.t. not P(X)` \n",
    "\n",
    "(reminder: assertions are just a Boolean T/F value)"
   ]
  },
  {
   "cell_type": "markdown",
   "metadata": {},
   "source": [
    "## Using General Assertions\n",
    "\n",
    "Specify a query that violates the condition, \n",
    "then include inside a `NOT EXISTS` clause\n",
    "\n",
    "Query result must be empty,\n",
    "not empty --> assertion has been violated\n"
   ]
  },
  {
   "cell_type": "markdown",
   "metadata": {},
   "source": [
    "EX: every loan has (at least one) borrower who maintains\n",
    "an account with a (minimum balance of $1,000.00\n",
    "\n",
    "```sql\n",
    "CREATE ASSERTION\tbalance_constraint CHECK (\n",
    "\t-- \n",
    "\tNOT EXISTS\t(\n",
    "\t\t-- Finds loans without ANY borrowers that match the condition\n",
    "\t\tSELECT\t*\n",
    "\t\tFROM\tloan\n",
    "\t\tWHERE \tNOT EXISTS (\n",
    "\t\t\t-- Relates loan with borrower, depositor, and account to find\n",
    "\t\t\t-- borrowers for each loan that match the condition (min balance)\n",
    "\t\t\tSELECT \t*\n",
    "\t\t\tFROM \tborrower, depositor, account\n",
    "\t\t\tWHERE \tloan.loan_number = borrower.loan_number\n",
    "\t\t\t\tAND\tborrower.customer_id = depositor.customer_id\n",
    "\t\t\t\tAND  depositor.account_number = account.account_number\n",
    "\t\t\t\tAND \taccount.balance >= 1000.00\n",
    "\t\t\t)\n",
    "\t\t)\n",
    "\t)\n",
    "```\n",
    "\n",
    "Innermost query connects all 4 relations first. All relations within this FROM will be used to link together and tied to single tuples at a time, but will be iterated for EVERY tuple from the exterior relation (loan). Thus for every loan, we'll be going through every borrower that exists for that loan.\n",
    "\n",
    "Then it does a check to filter out any borrower with less than $1,000 (non-compliant borrowers) so that ONLY COMPLIANT borrowers are left over. \n",
    "\n",
    "The inner `NOT EXISTS` then determines, for each loan, whether the COMPLIANT BORROWERS list is empty.\n",
    "\n",
    "The outer `NOT EXISTS` then flips the assertion so that it returns whether or not the COMPLIANT BORROWERS list for each loan is NOT empty.\n"
   ]
  },
  {
   "cell_type": "markdown",
   "metadata": {},
   "source": [
    "EX: The sum of all loan amounts for each branch must be less than the sum of all account balances at the branch\n",
    "\n",
    "```sql\n",
    "CREATE ASSERTION    sum_constraint CHECK\n",
    "    (NOT EXISTS (\n",
    "            SELECT  *\n",
    "            FROM    branch\n",
    "            WHERE   (\n",
    "                SELECT  SUM(amount)\n",
    "                FROM    loan\n",
    "                WHERE   loan.branch_name = branch.branch_name\n",
    "            ) >= (\n",
    "                SELECT  SUM(amount)\n",
    "                FROM    account\n",
    "                where   account.branch_name = branch.branch_name\n",
    "            )\n",
    "    ))\n",
    "```\n",
    "\n",
    "Another way of reading it, top down :\n",
    "\n",
    "`NOT EXISTS` will check if contained query is empty.\n",
    "\n",
    "containd query checks all branches and outputs any where (A) >= (B)\n",
    "\n",
    "A) aggregate sum of loans within the branch\n",
    "\n",
    "B) aggregate sum of account balances within the branch\n",
    "\n",
    "All together it reads: if (the branches where (sum(loans within branch) >= sum(accounts within branch))) is empty\n",
    "\n",
    "Basically the opposite of branches where the sum of all loan ammounts are greater than or equal to (opp of condition) sum of all account ballances at branch"
   ]
  },
  {
   "cell_type": "markdown",
   "metadata": {},
   "source": [
    "EX: The salary of an employee must not be greater than the salary of the manager of the departmnet that the employee works for\n",
    "\n",
    "```sql\n",
    "CREATE ASSERTION    SALARY_CONSTRAINT\n",
    "CHECK (NOT EXISTS (             -- Ensure NO violations\n",
    "    SELECT  *\n",
    "    FROM    EMPLOYEE E, EMPLOYEE M, DEPARTMENT D\n",
    "    WHERE   E.SALARY > M.SALARY -- E makes more than M (violates)\n",
    "        AND E.DNO = D.NUMBER    -- employee (E) is in same department\n",
    "        AND D.MGRSSN = M.SSN    -- as the manager (M)\n",
    "))\n",
    "```"
   ]
  },
  {
   "cell_type": "markdown",
   "metadata": {},
   "source": [
    "# SQL Triggers\n",
    "\n",
    "**Objective**: monitor a database and take actions when a condition occurs\n",
    "\n",
    "**Syntax**: Triggers are expressed in a syntax similar to assertions and include the following:\n",
    "\n",
    "- event (e.g. an update operation)\n",
    "- condition\n",
    "- action (to be taken when the condition is satisfied)"
   ]
  }
 ],
 "metadata": {
  "kernelspec": {
   "display_name": "Python 3.10.1 64-bit",
   "language": "python",
   "name": "python3"
  },
  "language_info": {
   "codemirror_mode": {
    "name": "ipython",
    "version": 3
   },
   "file_extension": ".py",
   "mimetype": "text/x-python",
   "name": "python",
   "nbconvert_exporter": "python",
   "pygments_lexer": "ipython3",
   "version": "3.10.4"
  },
  "orig_nbformat": 4,
  "vscode": {
   "interpreter": {
    "hash": "40430081c420884bc0c6cacdd19468c594457515a272ed1024804e3b83ddb8db"
   }
  }
 },
 "nbformat": 4,
 "nbformat_minor": 2
}

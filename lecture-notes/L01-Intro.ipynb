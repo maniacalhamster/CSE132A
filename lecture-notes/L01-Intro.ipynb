{
 "cells": [
  {
   "cell_type": "markdown",
   "metadata": {},
   "source": [
    "# Database Aplication Examples\n",
    "\n",
    "Use cases of databases include\n",
    "- Enterprise information\n",
    "    - Sales: customers, products, purchases\n",
    "    - Accounting: payments, receipts, assets\n",
    "    - Human Resources: Employee info, slaries, payroll taxes\n",
    "- Manufacturing: management of production, inventory, orders, supply chain\n",
    "- Banking and Finance\n",
    "    - customer info, accounts, loans, and banking trasanctions\n",
    "    - credit card transactions\n",
    "    - finance: sales and purchases of inancial instruments (stocks/bonds, real-time market data)\n",
    "- Universities: registration, grades"
   ]
  },
  {
   "cell_type": "markdown",
   "metadata": {},
   "source": [
    "## Purpose of Database Systems\n",
    "\n",
    "History Lesson: DB apps used to be build directly on top of file systems- inefficient due to:\n",
    "- data redundancy and inconsistency \n",
    "- difficulty accessing data \n",
    "- data isolation\n",
    "- integrity problems\n",
    "- atomicity of updates\n",
    "- concurrent access by multiple users\n",
    "- security problems"
   ]
  },
  {
   "cell_type": "markdown",
   "metadata": {},
   "source": [
    "## Core Database Issues\n",
    "\n",
    "- Data models / Query Languages\n",
    "\n",
    "- Database design\n",
    "\n",
    "- Query processing\n",
    "\n",
    "- Storage Management\n",
    "\n",
    "- Trasaction management\n",
    "\n",
    "- Concurrency control"
   ]
  },
  {
   "cell_type": "markdown",
   "metadata": {},
   "source": [
    "## Data Models\n",
    "\n",
    "Logical representation of data\n",
    "\n",
    "The physical implementation (i.e. how the data are actually stored) is abstracted from the user since it adds unneccesary complexities.\n",
    "\n",
    "Collection of tools for describing\n",
    "- Data\n",
    "- Data relationships\n",
    "- Data semantics\n",
    "- Data constriants\n",
    "\n",
    "\n",
    "Examples / Types :\n",
    "\n",
    "- Relational\n",
    "\n",
    "- Entity-Relationship (db des)\n",
    "\n",
    "- Object-based (OO & OR)\n",
    "\n",
    "- Semi-strucutured (XML)\n",
    "\n",
    "- Older\n",
    "  - Network\n",
    "    - Hierarchical"
   ]
  },
  {
   "cell_type": "markdown",
   "metadata": {},
   "source": [
    "### Relation Model\n",
    "\n",
    "Represents data as tables\n",
    "\n",
    "Separate table for each group of related entities. Example of seperation through a bank would be having a Customer table, Account table, and a Depositor table. Customer table provides customer specific info, Account table relates accoutn no. to account balance, and finally the Depositor table relates customer ID to account no. Note that the Desositor table does not represent any physical entity but acts more as a connector table to help relate the Customer table to the Account table\n",
    "\n"
   ]
  },
  {
   "cell_type": "markdown",
   "metadata": {},
   "source": [
    "#### Relational Model: SQL \n",
    "\n",
    "- Query language for relational databases\n",
    "\n",
    "- Is declarative (non-procedural)\n",
    "\n",
    "I.e. you only specify the desired result but not how to compute it (like java abstracts). System itself will pick out the most optimal way to retrieve the data\n",
    "\n",
    "**Example:** Find the name of the customer with customer-id 1\n",
    "\n",
    "```\n",
    "select customer.name\n",
    "from   customer\n",
    "where  customer.cust_id = '1'\n",
    "```\n",
    "\n",
    "**Example:** Find the balances of all accoutns held by the customer with customer-id 1\n",
    "\n",
    "```\n",
    "select account.balance\n",
    "from   depositor, account\n",
    "where  depositor.custid = '1' and\n",
    "       depositor.accountnum = account.accountnum\n",
    "```\n"
   ]
  },
  {
   "cell_type": "markdown",
   "metadata": {},
   "source": [
    "Application programs generally access SQL databases through:\n",
    "\n",
    "- Language extensions (to allow embedded SQL)\n",
    "\n",
    "- Application program interface (e.g. ODBC/JDBC)\\\n",
    "  which allow SQL queries to be sent to a database"
   ]
  },
  {
   "cell_type": "markdown",
   "metadata": {},
   "source": [
    "### Entity Relationship (E-R) Model\n",
    "\n",
    "Models an application as a collection of:\n",
    "- Entities\\\n",
    "    \"Things\"/\"objects\" in the enterprise that is distinguishable from other objects (and is described by a set of attributes)\n",
    "\n",
    "- Relationships\\\n",
    "    Associations among several entities\\\n",
    "    Note: these are first class citizens in E-R models, as opposed to imagined existence in Relational DB"
   ]
  },
  {
   "cell_type": "markdown",
   "metadata": {},
   "source": [
    "### Object-Relational Model\n",
    "\n",
    "- Extend the relational data model\\\n",
    "    Include object orientation and constructs to deal w/ added data types\n",
    "\n",
    "- Allow attributes of tuples to have complex types\\\n",
    "    Including non-atomic values such as nested relations\n",
    "\n",
    "- Preserve relational foundations\\\n",
    "    In particular, the declarative access to data, while extending modeling power\n",
    "\n",
    "- Provide backwards compatability\\\n",
    "    With existing relational languages"
   ]
  },
  {
   "cell_type": "markdown",
   "metadata": {},
   "source": [
    "### XML: eXtensible Markup Language\n",
    "\n",
    "- Defined by WWW Consortium (W3C)\n",
    "\n",
    "- Originally intended as a document markup language\\\n",
    "    not a database language\n",
    "\n",
    "- Great way to exchange data (not only docs)\\\n",
    "    based on the ability to specify new tags, and to create nested tag structures\n",
    "\n",
    "- Basis for a new generation of data exchange formats\n",
    "\n",
    "- Wide variety of XML tools available\\\n",
    "    for parsing, browsing, and query XML docs/data"
   ]
  },
  {
   "cell_type": "markdown",
   "metadata": {},
   "source": [
    "## Database Design\n",
    "\n",
    "Design the general structure of the database:\n",
    "\n",
    "- Conceptual Design\n",
    "\n",
    "    Captures data reqs (i.e. which info should be present)\n",
    "\n",
    "    e.g. for relational model, the conceptual design can be done through the E-R Model\n",
    "\n",
    "- Logical Design\n",
    "\n",
    "    Translate the conceptual design to the chosen data model (e.g. define the schema of the relational tables)\n",
    "\n",
    "- Physical Design\n",
    "\n",
    "    Decide on the physical layout of the database (e.g. define indices)"
   ]
  },
  {
   "cell_type": "markdown",
   "metadata": {},
   "source": [
    "## Query Processing\n",
    "\n",
    "1. Parsing & Translation\n",
    "2. Optimization\n",
    "3. Evaluation\n",
    "\n",
    "![](images/2022-10-06-21-52-35.png)"
   ]
  },
  {
   "cell_type": "markdown",
   "metadata": {},
   "source": [
    "## Query Processing\n",
    "\n",
    "- Altnernative ways of evaluation a given query\\\n",
    "    Equivalent formulations\\\n",
    "    Different algorithms for each operation\n",
    "\n",
    "- Cost difference between a good and a bad way of evaluation a query can be enormous\n",
    "\n",
    "- Need to estimate the cost of operations\\\n",
    "    Depends critically on statistical info about relations (which the database must maintain)\\\n",
    "    Need to estimate statistics for intermediate results to compute cost of complex expressions\n"
   ]
  },
  {
   "cell_type": "markdown",
   "metadata": {},
   "source": [
    "## Storage Management\n",
    "\n",
    "- Storage manager\\\n",
    "    module providing the interface b/w low-level data stored in DB and the application programs/queries submitted to system\n",
    "\n",
    "- Responsibilities include:\n",
    "  - Interacting w/ file manager\n",
    "  - Efficient storing, retrieving, updating of data\n",
    "\n",
    "- Issues:\n",
    "  - File organization\n",
    "  - indexing"
   ]
  },
  {
   "cell_type": "markdown",
   "metadata": {},
   "source": [
    "## Transaction Management\n",
    "\n",
    "- **Transaction**: collection of operations that performs a single logical function in a db app\n",
    "\n",
    "- **Transaction management**: ensures db remains in a consistent (correct) state despite failures\n",
    "  - power failure\n",
    "  - OS crashes\n",
    "  - transaction failures\n",
    "  - etc.\n",
    "\n",
    "- **Concurrency control**: manages interaction among concurrent trnsactions - to ensrue consistency of db"
   ]
  }
 ],
 "metadata": {
  "kernelspec": {
   "display_name": "Python 3.10.1 64-bit",
   "language": "python",
   "name": "python3"
  },
  "language_info": {
   "name": "python",
   "version": "3.10.1"
  },
  "orig_nbformat": 4,
  "vscode": {
   "interpreter": {
    "hash": "40430081c420884bc0c6cacdd19468c594457515a272ed1024804e3b83ddb8db"
   }
  }
 },
 "nbformat": 4,
 "nbformat_minor": 2
}

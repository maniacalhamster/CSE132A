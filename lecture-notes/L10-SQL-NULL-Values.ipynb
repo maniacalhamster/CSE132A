{
 "cells": [
  {
   "cell_type": "markdown",
   "metadata": {},
   "source": [
    "## Nested Queries: Existential and Universal Quanitification\n",
    "\n",
    "`A op ANY <nested query>` is satisfied if **there is** ($\\exists$) a value X in the result of the `<nested query>` and the condition `A op X` is satisfied\n",
    "- ANY aka SOME\n",
    "\n",
    "`A op ALL <nested query>` is satisfied if **for every** ($\\forall$) a value X in the result of the `<nested query>` the condition `A op X` is satisfied"
   ]
  },
  {
   "cell_type": "markdown",
   "metadata": {},
   "source": [
    "EX: Find directors of currently playing movies\n",
    "\n",
    "(not a particularly good implementation, just to showcase the ANY keyword)\n",
    "\n",
    "```sql\n",
    "SELECT\tDirector\n",
    "FROM\tMovie\n",
    "WHERE\tTitle = ANY     -- Syntactic sugar, equivalent to checking membership with IN keyword\n",
    "    SELECT  Title\n",
    "    FROM    Schedue\n",
    "```\n",
    "\n",
    "EX: Find employees w/ the highest salary\n",
    "```sql\n",
    "SELECT\tName\n",
    "FROM\tEmployee\n",
    "WHERE\tSalary >= ALL   -- not syntactic sugar\n",
    "    SELECT  Salary\n",
    "    FROM    Employee\n",
    "```"
   ]
  },
  {
   "cell_type": "markdown",
   "metadata": {},
   "source": [
    "## Nested Queries: Set Comparisons\n",
    "\n",
    "`<nested query 1> CONTAINS <nested query 2>`\n",
    "\n",
    "checks if any first query results are members of the results of the second query\n",
    "\n",
    "> The original SQL as specified for SYSTEM R  had a CONTAINS operator. This was __dropped from the language__ possibly because of the difficulty in implementing it efficiently"
   ]
  },
  {
   "cell_type": "markdown",
   "metadata": {},
   "source": [
    "## Nested Queries in FROM Clause\n",
    "\n",
    "- SQL allows nested queries in the FROM clause\n",
    "\n",
    "EX: Find directors of movies showing in Hillcrest\n",
    "\n",
    "```sql\n",
    "SELECT\tm.director\n",
    "FROM\tmovie m, (  SELECT  title\n",
    "                    FROM    schedule\n",
    "                    WHERE   theater = \"Hillcrest\") t\n",
    "WHERE   m.title = t.title\n",
    "```\n",
    "\n",
    "> Note: This is syntactic sugar and can be eliminated. You don't have to and you prob don't want to, it's just to show that you can."
   ]
  },
  {
   "cell_type": "markdown",
   "metadata": {},
   "source": [
    "# Null values in SQL\n",
    "\n",
    "Testing if attribute is null:\n",
    "- `A IS NULL`\n",
    "- `A IS NOT NULL`\n",
    "\n",
    "Ex: Find all employees with unknown phone number\n",
    "\n",
    "```sql\n",
    "SELECT\tname\n",
    "FROM\temployee\n",
    "WHERE\tphone IS NULL\n",
    "```\n",
    "\n",
    "Arithmetic operations involving any NULL returns NULL\n",
    "\n",
    "If `Salary IS NULL`, then `Salary + 1 => NULL`\n",
    "\n",
    "Comparisons involving null return UNKNOWN (**new truth value!**)\n",
    "\n",
    "If `Salary IS NULL`, then `Salary = 0 => UNKNOWN`\n"
   ]
  },
  {
   "cell_type": "markdown",
   "metadata": {},
   "source": [
    "### Brief digresssion into SQL Booleans\n",
    "\n",
    "NULL comparisons returning UNKNOWN introduces a 3rd truth value, updating the truth table like so:\n",
    "\n",
    "![](images/2022-10-25-15-52-55.png)\n",
    "\n",
    "WHERE clause conditions evaluating to UNKNOWN are treated as FALSE"
   ]
  },
  {
   "cell_type": "markdown",
   "metadata": {},
   "source": [
    "EX: Various queries working with the following data\n",
    "\n",
    "```\n",
    "Movie   | title     director    actor\n",
    "        | Tango     Berto       Brando\n",
    "        | Psycho    Hitch       Perkins\n",
    "        | Bambi     null        null\n",
    "```\n",
    "\n",
    "---\n",
    "\n",
    "`SELECT title WHERE dir = 'Hitch'` => Psycho\n",
    "\n",
    "`SELECT title WHERE dir <> 'Hitch'` => Tango\n",
    "- Comparing 'Hitch' to IDK => IDK. Which is treated as FALSE (Bambi is excluded)\n",
    "\n",
    "---\n",
    "\n",
    "`SELECT title WHERE dir = 'null'` => EMPTY\n",
    "- Comparing IDK to 'null' => IDK. Which is treated as FALSE (Bambi is excluded)\n",
    "\n",
    "`SELECT title WHERE dir IS NULL` => Bambi"
   ]
  },
  {
   "cell_type": "markdown",
   "metadata": {},
   "source": [
    "### Anomolies of null semantics\n",
    "\n",
    "if Salary is NULL, then\n",
    "\n",
    "-- Salary > 0 evalutes to UNKNOWN even if the domain is restricted to positive integers in schema defn\n",
    "\n",
    "-- Consider the queries\n",
    "\n",
    "```sql\n",
    "SELECT  name\n",
    "FROM    employee\n",
    "WHERE   Salary <= 100 OR > 100\n",
    "```\n",
    "\n",
    "and \n",
    "\n",
    "```sql\n",
    "SELECT  name\n",
    "FROM    employee\n",
    "```\n",
    "\n",
    "These are NOT equivalent if some salaries are NULL"
   ]
  },
  {
   "cell_type": "markdown",
   "metadata": {},
   "source": [
    "### Null Values and Aggregates\n",
    "\n",
    "Total all loan ammounts\n",
    "\n",
    "```sql\n",
    "SELECT  SUM(amount)\n",
    "FROM    loan\n",
    "```\n",
    "\n",
    "^ will ignore NULL ammounts. Result is NULL if there are no non-NULL amounts \n",
    "\n",
    "- All aggregate operations except `COUNT(*)` ignore tuples with NULL values on the aggregated attributes\n",
    "\n",
    "Considering `R`, with a single attribute `A`,\n",
    "\n",
    "`SELECT COUNT(*) FROM R` vs `SELECT COUNT(A) FROM R`\n",
    "\n",
    "are NOT equivalent if `R` contains any NULL values (in which case `COUNT(*) > COUNT(A)`)"
   ]
  },
  {
   "cell_type": "markdown",
   "metadata": {},
   "source": [
    "### Null Values and Group-By\n",
    "\n",
    "NULL GROUP-BY attributes are treated like any other value\n",
    "\n",
    "![](images/2022-10-25-16-22-08.png)\n",
    "\n",
    "> note: Unlike most WHERE clause consider UNKNOWNS as FALSE and will thus exclude any comparisons against NULL valued tuples, the GROUP-BY will still group them with the implicit equality tests - and those evaluations (not FALSE) are inconsistent with the expliciti equality tests (FALSE). Prof particularly dislikes this inconsistency and believes it to be a fault of the group creating the standards"
   ]
  },
  {
   "cell_type": "markdown",
   "metadata": {},
   "source": [
    "### Creating NULLs with OUTER JOINs\n",
    "\n",
    "Idea: To avoid losing tuples in natural joins (recall Bambi), pad with null values\n",
    "\n",
    "`P <outer join> Q`\n",
    "\n",
    "> note: not needed for hw, this is all syntactic sugar. No additional expressive power, just for convenience.\n",
    "\n",
    "Variations\n",
    "- Natural Left: keep all tuples from left relation (P) (even if no join partner in/from Q)\n",
    "- Natural Right keep all tuples from right relation (Q) (even if no join partner in/from P)\n",
    "- Natural Full: keep all tuples from both relations"
   ]
  },
  {
   "cell_type": "markdown",
   "metadata": {},
   "source": [
    "![](images/2022-10-25-16-29-19.png)\n",
    "\n",
    "VS inner join, Movie's \"Sky\" tuple would've been excluded due to not having a join partner in Schedule"
   ]
  }
 ],
 "metadata": {
  "kernelspec": {
   "display_name": "Python 3.10.1 64-bit",
   "language": "python",
   "name": "python3"
  },
  "language_info": {
   "name": "python",
   "version": "3.10.1"
  },
  "orig_nbformat": 4,
  "vscode": {
   "interpreter": {
    "hash": "40430081c420884bc0c6cacdd19468c594457515a272ed1024804e3b83ddb8db"
   }
  }
 },
 "nbformat": 4,
 "nbformat_minor": 2
}

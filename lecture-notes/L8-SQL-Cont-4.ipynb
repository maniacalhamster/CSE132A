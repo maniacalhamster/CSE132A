{
 "cells": [
  {
   "cell_type": "markdown",
   "metadata": {},
   "source": [
    "## Introductory note\n",
    "\n",
    "Prof praising SQL's Compositionality\n",
    "\n",
    "The ability to compose complex expressions from simple queries by feeding the results of queries as inputs of other queries\n",
    "\n",
    "this nesting of queries can happen an unbounded amount of times, leading to some more complex nesting"
   ]
  },
  {
   "cell_type": "markdown",
   "metadata": {},
   "source": [
    "## Simple use of NOT IN\n",
    "\n",
    "EX: Find all movies that are **not** currently playing\n",
    "\n",
    "```sql\n",
    "SELECT  title FROM Movie\n",
    "WHERE   title NOT IN (\n",
    "    SELECT  title FROM Schedule\n",
    ")\n",
    "```"
   ]
  },
  {
   "cell_type": "markdown",
   "metadata": {},
   "source": [
    "### Q: Why can't this be flattened?\n",
    "\n",
    "Hand-wavy \"proof\"\n",
    "\n",
    "- Basic queries w/ no nestint are **monotonic**\n",
    "\n",
    "\"The answer never decreases when the database increases\"\n",
    "\n",
    "DB1 $\\subseteq$ DB2 *implies* Query(DB1) $\\subseteq$ Query(DB2)\n",
    "\n",
    "- But queries using NOT IN are **not monotonic**\n",
    "\n",
    "Using example from above (find all movies not currently playing), if Schedule increases, the answer might decrease"
   ]
  },
  {
   "cell_type": "markdown",
   "metadata": {},
   "source": [
    "## More complex use of NOT IN\n",
    "\n",
    "another use case is modular development. Can use nesting to build an intermediary relation that can be used in outer queries\n",
    "\\+ pipelines can be built in a toolbase fashion\n",
    "\n",
    "EX: Find names of employees with the max salary\n",
    "\n",
    "```sql\n",
    "SELECT  name    FROM Employee\n",
    "WHERE   salary  NOT IN (\n",
    "    SELECT  e.salary\n",
    "    FROM    Employee e, Employee f\n",
    "    WHERE   e.salary < f.salary\n",
    ")\n",
    "```\n",
    "\n",
    "Intuition: salary is maximum if it is NOT among salaries e.salary lower than some f.salary\n",
    "\n",
    "basically not in the group of non-max salaries"
   ]
  },
  {
   "cell_type": "markdown",
   "metadata": {},
   "source": [
    "### Another complex example\n",
    "\n",
    "> $\\exists$ \"there exists\" quanitifier is easily accomplished with any conditional in standard defined by SQL, however the $\\forall$ \"for all\" quanitifier has no direct syntax in the standard. Expressing it requires going through all these lengths (contorted but it's the only way out).\n",
    "\n",
    "General Strategy for all queries of this nature: DeMorgan's law of first order logic is used to simulate universal quanitification with existential quantification (i.e. laws of negations).\n",
    "\n",
    "EX: Find actors playing in **every** movie by \"Berto\"\n",
    "\n",
    "$$ \\begin{align*}\n",
    "    \\forall x : p(x)    &== \\neg (\\neg (\\forall x : p(x))) \\\\\n",
    "                        &== \\neg (\\exists x : \\neg p(x)) \\\\\n",
    "\\end{align*} $$\n",
    "\n",
    "$$ \\begin{align*}\n",
    "    \\forall m \\in \\text{Movies} : (\\text{a acted in m}) &== \\neg (\\exist m \\in \\text{Movie} : \\neg (\\text{a acted in m}))\n",
    "\\end{align*} $$\n",
    "\n",
    "Recall the prompt: Find actors playing in **every** movie by \"Berto\"\n",
    "\n",
    "1. Violating actors (there is some Berto movie they missed)\n",
    "   - 2 iterators through Movie, for actor and for director"
   ]
  },
  {
   "cell_type": "markdown",
   "metadata": {},
   "source": [
    "\n",
    "```sql\n",
    "SELECT  Actor   FROM Movie\n",
    "WHERE   Actor   NOT IN (\n",
    "    \n",
    "    SELECt  m1.Actor\n",
    "    FROM    Movie m1, Movie m2,\n",
    "    WHERE   m2.Director = \"Berto\"\n",
    "        AND NOT EXISTS (                -- equivalent to slide example but uses EXISTS instead of IN syntax\n",
    "            SELECT  *   FROM Movie 3\n",
    "            WHERE   m3.Actor = m1.Actor\n",
    "                AND m3.Title = m2.Title\n",
    "        )\n",
    "\n",
    ")\n",
    "```\n",
    "\n",
    "> Note: Should be able to complete hw 1 now!"
   ]
  },
  {
   "cell_type": "markdown",
   "metadata": {},
   "source": [
    "#### Aside\n",
    "Student Q: Why don't we just grab data from DB and then post process it in another scripting language or something?\n",
    "\n",
    "Profs A: It can be done and it IS done by some application (*brief interruption to say HUH they DO??? That sounds so scuffed lmaooo, sounds like something Justin*). Some caveats:\n",
    "- bottelnecks at network transfer speeds\n",
    "- ideally do most of the heavy lifting to the optimised DBMS and only work on niche/prototypy/quick changes with scripts\n",
    "- whenever you can, DON'T post process"
   ]
  }
 ],
 "metadata": {
  "kernelspec": {
   "display_name": "Python 3.10.1 64-bit",
   "language": "python",
   "name": "python3"
  },
  "language_info": {
   "name": "python",
   "version": "3.10.1"
  },
  "orig_nbformat": 4,
  "vscode": {
   "interpreter": {
    "hash": "40430081c420884bc0c6cacdd19468c594457515a272ed1024804e3b83ddb8db"
   }
  }
 },
 "nbformat": 4,
 "nbformat_minor": 2
}

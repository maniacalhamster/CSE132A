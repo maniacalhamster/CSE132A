{
 "cells": [
  {
   "cell_type": "markdown",
   "metadata": {},
   "source": [
    "## Any Questions?\n",
    "\n",
    "Student asked to go over `EXIST` VS `IN`\n",
    "\n",
    "```sql\n",
    "EXISTS(query Q)     -- true iff Q has non-empty result\n",
    "```\n",
    "\n",
    "vs\n",
    "\n",
    "```sql\n",
    "e IN (query Q)      -- true iff e is a member of Q's output\n",
    "```\n",
    "\n",
    "> Q: can we express `IN` using `EXISTS`?\n",
    "\n",
    "```sql\n",
    "SELECT  *           -- return the whole t for each t that satisfies the condition (homemade membership check using EXISTS)\n",
    "FROM    T t, ...\n",
    "WHERE   EXISTS (\n",
    "    SELECT  *       -- doesn't matter since EXISTS only checks if result is non-empty\n",
    "    FROM    S s\n",
    "    WHERE   s.name == t.name\n",
    ")\n",
    "```"
   ]
  },
  {
   "cell_type": "markdown",
   "metadata": {},
   "source": [
    "### Q: What about the JOIN primitive u can use in SQL?\n",
    "\n",
    "A: You don't really need inner joins at all. Already addressed a long time ago just didn't name them. No need for special syntax. It's just FROM 2 relations with the WHERE clause has a condition checking for equality of a shared attribute. \n",
    "\n",
    "You don't get any additional expressive power using the inner join primitive. It's more of a taste/preference"
   ]
  },
  {
   "cell_type": "markdown",
   "metadata": {},
   "source": [
    "EX: Find actors playing in **every** movie by \"Berto\"\n",
    "\n",
    "```sql\n",
    "SELECT  Actor   FROM Movie\n",
    "WHERE   Actor   NOT IN (\n",
    "\n",
    "    SELECT  m1.Actor\n",
    "    FROM    Movie m1, Movie m2\n",
    "    WHERE   m2.Director=\"Berto\"\n",
    "        AND m1.Actor NOT IN (\n",
    "            SELECT  Actor\n",
    "            FROM    Movie\n",
    "            WHERE   Title=m2.Title\n",
    "        )\n",
    "\n",
    ")\n",
    "```\n",
    "\n",
    "Q: What does the doubly nested query compute?\n",
    "\n",
    "A: Extracts the class for the movie m2 directed by \"Berto\"\n",
    "\n",
    "So we basically find actors for which there is some movie by \"Berto\" in which they do not act to generate a list of violating actors.\n",
    "\n",
    "Then we use the list of violating actors, and find just the valid actors instead using `NOT IN`\n",
    "\n",
    "> SQL's way of saying this: \n",
    " \n",
    "\"find the actors for which there is no movie by Bertolucci in which they do not act\"\n",
    "\n",
    "OR equivalently\n",
    "\n",
    "\"find the actors not among those actors for which there is some movie by Bertolucci in which they do not act"
   ]
  },
  {
   "cell_type": "markdown",
   "metadata": {},
   "source": [
    "## Example of EXIST\n",
    "\n",
    "EX: Find titles of curr playing movies by Berto\n",
    "\n",
    "```sql\n",
    "SELECT  s.title\n",
    "FROM    schedule s\n",
    "WHERE   EXISTS (\n",
    "    SELECT  *                           -- Again, doesn't matter for EXISTS\n",
    "    FROM    movie\n",
    "    WHERE   movie.title = s.title \n",
    "        AND movie.director = \"Berto\"\n",
    ")\n",
    "```\n",
    "\n",
    "Correlation used"
   ]
  },
  {
   "cell_type": "markdown",
   "metadata": {},
   "source": [
    "### Boolean Prediate\n",
    "\n",
    "useful for constraints, e.g. \"everybody likes UCSD\"\n",
    "\n",
    "Person(name: string)\n",
    "\n",
    "Likes(name: string, school: string)\n",
    "\n",
    "```sql\n",
    "NOT EXISTS\n",
    "    (\n",
    "        SELECT  *   FROM PERSON\n",
    "        WHERE   NOT EXISTS (\n",
    "            SELECT  *   FROM LIKES\n",
    "            WHERE   PERSON.name = LIKES.name\n",
    "                AND school='UCSD'\n",
    "        )\n",
    "    )\n",
    "```"
   ]
  },
  {
   "cell_type": "markdown",
   "metadata": {},
   "source": [
    "# Union, Intersection & Difference\n",
    "\n",
    "Usually for chaining operatoins over tables. This all behind relational algebra: the way in which the plan for answering the query is presented internally in the DBMS.\n",
    "\n",
    "- UNION: `<SQL Query 1> UNION <SQL Query 1>\n",
    "\n",
    "- Intersection: `<SQL Query 1> INTERSECT <SQL Query 1>\n",
    "\n",
    "- EXCEPT: `<SQL Query 1> EXCEPT <SQL Query 1>"
   ]
  }
 ],
 "metadata": {
  "kernelspec": {
   "display_name": "Python 3.10.1 64-bit",
   "language": "python",
   "name": "python3"
  },
  "language_info": {
   "name": "python",
   "version": "3.10.1"
  },
  "orig_nbformat": 4,
  "vscode": {
   "interpreter": {
    "hash": "40430081c420884bc0c6cacdd19468c594457515a272ed1024804e3b83ddb8db"
   }
  }
 },
 "nbformat": 4,
 "nbformat_minor": 2
}

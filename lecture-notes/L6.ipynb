{
 "cells": [
  {
   "cell_type": "markdown",
   "metadata": {},
   "source": [
    "Recap: Computing aggregates over large relations\n",
    "\n",
    "```sql\n",
    "SELECT max(salary), min(salary), avg(salary)\n",
    "FROM employee, department\n",
    "WHERE dno = dnumber and dnae = 'Research'\n",
    "```\n",
    "\n",
    "1. compute the relation dictated by FROM and WHERE clauses\n",
    "2. for every such client, extract all the salaries\n",
    "3. from that collection, apply the 3 aggregate functions "
   ]
  },
  {
   "cell_type": "markdown",
   "metadata": {},
   "source": [
    "Recall the Company Schema from prior lectures:\n",
    "\n",
    "![](images/2022-10-20-00-05-41.png)"
   ]
  },
  {
   "cell_type": "markdown",
   "metadata": {},
   "source": [
    "## Grouping\n",
    "\n",
    "Allows aggregates to be applied to *subgroups of tuples in a relation*\n",
    "- function applied to each subgroup independently\n",
    "\n",
    "**Subgroup**: set of tuples that have the *same value* for the *grouping attribute(s)*\n",
    "\n",
    "SQL syntax: GROUP BY clause specifies the grouping attribute (*which must also appear in the SELECT clause*)\n"
   ]
  },
  {
   "cell_type": "markdown",
   "metadata": {},
   "source": [
    "\n",
    "aggregate ALL employees vs aggregate for each department:\n",
    "\n",
    "```sql\n",
    "SELECT avg(Salary) AS AvgSal\n",
    "FROM employee\n",
    "```\n",
    "\n",
    "```sql\n",
    "SELECT Dept, avg(Salary) AS AvgSal\n",
    "FROM Employee\n",
    "GROUP BY Dept\n",
    "```\n",
    "\n",
    "![](images/2022-10-20-00-08-46.png)"
   ]
  },
  {
   "cell_type": "markdown",
   "metadata": {},
   "source": [
    "For each department, retrieve\n",
    "- department number\n",
    "- number of employees in the department\n",
    "- average salary\n",
    "\n",
    "```sql\n",
    "SELECT DNO, COUNT(*) AS NUMEMP, AVG(SALARY) AS AVGSAL\n",
    "FROM EMPLOYEE\n",
    "GROUP BY DNO\n",
    "```"
   ]
  },
  {
   "cell_type": "markdown",
   "metadata": {},
   "source": [
    "for each project, retrieve\n",
    "- project number\n",
    "- project name\n",
    "- number of employees who work on that project\n",
    "\n",
    "```sql\n",
    "SELECT      PNUMBER, PNAME, COUNT(*)\n",
    "FROM        PROJECT, WORKS_ON\n",
    "WHERE       PNUMBER=PNO\n",
    "GROUP BY    PNUMBER, PNAME\n",
    "```\n",
    "\n",
    "- FROM-WHERE combo essentially combines the PROJECT & WORKS_ON relations via the PNUMBER/PNO values. Tuples that share those values are concatenated into a single tuple to create a new unnamed intermediate relation w/ these shared values\n",
    "- GROUP BY can be done on multiple attributes (more selective/specific groups)\n"
   ]
  },
  {
   "cell_type": "markdown",
   "metadata": {},
   "source": [
    "> Subtlety: suppose PNO and ESSN do not form a key for WORKS_ON (e.g. logging hours spent on project)\n",
    "\n",
    "Problem: will get duplicate employees\n",
    "\n",
    "![](images/2022-10-20-00-44-36.png)\n",
    "\n",
    "Fix:\n",
    "```sql\n",
    "SELECT      PNUMBER, PNAME, COUNT(DISTINCT ESSN)\n",
    "FROM        PROJECT, WORKS_ON\n",
    "WHERE       PNUMBER=PNO\n",
    "GROUP BY    PNUMBER, PNAME\n",
    "```"
   ]
  },
  {
   "cell_type": "markdown",
   "metadata": {},
   "source": [
    "## HAVING Clause\n",
    "\n",
    "Use case: retrieve values of aggregate functions for only those groups that satisfy certain conditions\n",
    "\n",
    "specifies selection condition on GROUPS (as opposed to INDIVIDUAL TUPLES)"
   ]
  },
  {
   "cell_type": "markdown",
   "metadata": {},
   "source": [
    "EX: Find the names of all branches where the average account balance is more than $1,200\n",
    "\n",
    "```sql\n",
    "SELECT      branch_name, avg(balance)\n",
    "FROM        account\n",
    "GROUP BY    branch_name\n",
    "HAVING      avg(balance) > 1200\n",
    "```\n",
    "\n",
    "WHERE\n",
    "- individual tuples themselves\n",
    "- conditionals on attributes\n",
    "- before groups are formed\n",
    "\n",
    "HAVING\n",
    "- on the totality of tuples within groups\n",
    "- conditionals on \n",
    "  - group-by attribute values\n",
    "  - aggregates(other attributes)\n",
    "- after groups are formed"
   ]
  },
  {
   "cell_type": "markdown",
   "metadata": {},
   "source": [
    "EX: for each proj w/ 2+ employees, retrieve\n",
    "- proj number\n",
    "- proj name\n",
    "- num employees working on pro\n",
    "\n",
    "```sql\n",
    "SELECT      pnumber, pname, count(*)\n",
    "FROM        project, works_on\n",
    "WHERE       pnumber = pno\n",
    "GROUP BY    pnumber, pname\n",
    "HAVING      count(*) > 2\n",
    "```"
   ]
  },
  {
   "cell_type": "markdown",
   "metadata": {},
   "source": [
    "EX: For each movie having more than 100 actors (i.e. large cast), find the number of theatres showing the movie\n",
    "\n",
    "```sql\n",
    "SELECT      m.Title, count(distinc s.Theater) as number -- 4. Account for same theatre showing movie multiple times\n",
    "FROM        Schedule s, Movie m                         -- 1. form an intermediate table by linking Schedule and Movie relations\n",
    "WHERE       s.Title = m.Title                           --    via their Titles (concatenate each tuple sharing same movie title)\n",
    "GROUP BY    m.Title                                     -- 2. Group by Titles in order to do the next check on movies:\n",
    "HAVING      count(distinct m.Actor)>100                 -- 3. Filter for large casts (account for same actor in multiple roles)\n",
    "```\n",
    "\n",
    "> Note: Aggregate is taken over pairs <s,m> w/ same Title"
   ]
  },
  {
   "cell_type": "markdown",
   "metadata": {},
   "source": [
    "## SQL Queries: Nesting\n",
    "\n",
    "WHERE clause can contain predicates of the form\n",
    "\n",
    "`attr/value IN <SQL query>`\n",
    "`attr/value NO IN <SQL query>`\n",
    "\n",
    "Semantics: IN predicate is satisfied if the attr/value appears in the result of the nested <SQL query>\n",
    "\n",
    "EX: Find directors of current movies\n",
    "\n",
    "```sql\n",
    "SELECT  director FROM Movie\n",
    "WHERE   title IN (\n",
    "                    SELECT title\n",
    "                    FROM schedule\n",
    "                )\n",
    "```\n",
    "\n",
    "> Nested query returns the collection of titles of currently playing movies. From which the outer WHERE clause performs a membership conditional check on the title against the nested query.\n"
   ]
  },
  {
   "cell_type": "markdown",
   "metadata": {},
   "source": [
    "EX: Find actors playing in some movie by Bertolucci\n",
    "\n",
    "```sql\n",
    "SELECT  Actor\n",
    "FROM    Movie\n",
    "WHERE   title IN (\n",
    "                    SELECT  title\n",
    "                    FROM    Movie\n",
    "                    WHERE   director = \"Bertolucci\"\n",
    "                )\n",
    "```\n",
    "\n",
    "> Nested query returns the collection of titles of movies by Bertolucci. From which the outer WHERE clause performs a membership conditional check on the title against the nested query."
   ]
  },
  {
   "cell_type": "markdown",
   "metadata": {},
   "source": [
    "#### On Nesting...\n",
    "\n",
    "Key principle behind the design of the SQL Query Language => compositionality\n",
    "\n",
    "The ability to nest SQL Queries is an important aspect of SQL - i.e. piping together smaller simpler expressions to make increasingly complicated expressions.\n",
    "\n",
    "SQL designers/engineers did to make this feature happen?\n",
    "\n",
    "`SELECT-FROM-WHERE` blocks input types and output types are the same: relations/tables. This makes it pluggable!\n",
    "\n",
    "#### In terms of performance\n",
    "\n",
    "Ideal: optimizers realize 2 diff expressions that are syntactically diff but **semantically equivalent** should optimize both in the same way\n",
    "\n",
    "Realistically: optimization is computationally difficult. Usually nesting is SLOWER."
   ]
  }
 ],
 "metadata": {
  "kernelspec": {
   "display_name": "Python 3.10.1 64-bit",
   "language": "python",
   "name": "python3"
  },
  "language_info": {
   "name": "python",
   "version": "3.10.1"
  },
  "orig_nbformat": 4,
  "vscode": {
   "interpreter": {
    "hash": "40430081c420884bc0c6cacdd19468c594457515a272ed1024804e3b83ddb8db"
   }
  }
 },
 "nbformat": 4,
 "nbformat_minor": 2
}

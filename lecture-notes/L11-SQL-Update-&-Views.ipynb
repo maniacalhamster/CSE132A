{
 "cells": [
  {
   "cell_type": "markdown",
   "metadata": {},
   "source": [
    "# Summary of basic SQL Queries\n",
    "\n",
    "Up to 6 clauses in a query but only 2 mandatory, following the order:\n",
    "\n",
    "```sql\n",
    "SELECT      <attribute list>\n",
    "FROM        <table list>\n",
    "[WHERE      <condition>]\n",
    "[GROUP BY   <grouping attribute(s)>]\n",
    "[HAVING     <group condition>]\n",
    "[ORDER BY   <attribute list>]\n",
    "```\n",
    "\n",
    "    SELECT:     lists the attributes/functions to be retrieved\n",
    "    FROM:       specifies all realtions (or aliases) needed in the query but not those needed in nested queries\n",
    "    WHERE:      specifies the conditions for selections of tuples from the relations specified in the FROM clause\n",
    "    GROUP BY:   specifies grouping attributes\n",
    "    HAVING:     specifies a condition for selection of groups\n",
    "    ORDER BY:   specifies an order for displaying the results of the query\n",
    "\n",
    "Query evaluation applies in the order:\n",
    "1. WHERE \n",
    "2. GROUP-BY & HAVING\n",
    "3. SELECT"
   ]
  },
  {
   "cell_type": "markdown",
   "metadata": {},
   "source": [
    "# SQL Update Language\n",
    "\n",
    "Moving on to insert/delete/change-ing data into/in database\n",
    "\n",
    "- Insertions\n",
    "- Updates\n",
    "- Deletions"
   ]
  },
  {
   "cell_type": "markdown",
   "metadata": {},
   "source": [
    "## Insertions\n",
    "\n",
    "Insert tuples\n",
    "\n",
    "    INSERT INTO R VALUES (v1,...,vk)\n",
    "\n",
    "- values may be left NULL\n",
    "- Can use results of queries for insertion\n",
    "\n",
    "#### Examples\n",
    "\n",
    "```sql\n",
    "INSERT  INTO Movie\n",
    "VALUES      (\"Matchpoint\", \"Allen\", \"Allen\")\n",
    "```\n",
    "\n",
    "```sql\n",
    "INSERT  INTO Movie(Title, Director)\n",
    "VALUES      (\"Matchpoint\", \"Allen\")\n",
    "```\n",
    "\n",
    "```sql\n",
    "INSERT  INTO BertoMovie\n",
    "SELECT  *    FROM Movie\n",
    "WHERE   Director = \"Berto\"\n",
    "```\n"
   ]
  },
  {
   "cell_type": "markdown",
   "metadata": {},
   "source": [
    "## Deletions\n",
    "\n",
    "Delete every tuple that satisfies <cond>\n",
    "\n",
    "    DELETE FROM R WHERE <cond>\n",
    "\n",
    "#### Example: Delete all movies that are not currently playing\n",
    "\n",
    "```sql\n",
    "DELETE  FROM    Movie\n",
    "        WHERE   Title NOT IN (\n",
    "                SELECT  Title\n",
    "                FROM    Schedule\n",
    "        )\n",
    "```\n",
    "\n",
    "> Nested queries in the WHERE clause provides a lot of expressive power for deletions"
   ]
  },
  {
   "cell_type": "markdown",
   "metadata": {},
   "source": [
    "## Updates\n",
    "\n",
    "Basic form: Update every tuple that satisfies <cond> in the way specified by the SET clause\n",
    "\n",
    "    UPDATE  R\n",
    "    SET     A1=<exp1>, ..., Ak=<expk>\n",
    "    WHERE   <cond>\n",
    "\n",
    "#### Examples\n",
    "\n",
    "Change all \"Berto\" entries to \"Bertolucci\"\n",
    "\n",
    "```sql\n",
    "UPDATE  Movie\n",
    "SET     Director=\"Bertolucci\"\n",
    "WHERE   Director=\"Berto\"\n",
    "```\n",
    "\n",
    "Increase all salaries in the toys dept by 10%\n",
    "\n",
    "```sql\n",
    "UPDATE  Employee\n",
    "SET     Salary=1.1*Salary\n",
    "WHERE   Dept=\"Toys\"\n",
    "```"
   ]
  },
  {
   "cell_type": "markdown",
   "metadata": {},
   "source": [
    "## More complex examples\n",
    "\n",
    "Delete all theatres that show more than one title\n",
    "\n",
    "```sql\n",
    "DELETE  FROM schedule s\n",
    "WHERE   EXISTS (\n",
    "        SELECT  *\n",
    "        FROM    schedule\n",
    "        WHERE   theater =   s.theater\n",
    "            AND title   <>  s.title\n",
    ")\n",
    "```\n",
    "\n",
    "On the following data:\n",
    "\n",
    "    Schedule    | Theater   Title\n",
    "                | Hillcrest Amour\n",
    "                | Hillcrest 0 dark 30\n",
    "                | Paloma    Django\n",
    "\n",
    "Standards group avoided a potential issue:\n",
    "\n",
    "Issue: Say `Hillcrest Amour` gets deleted \"first\", then `Hillcrest 0 dark 30` wouldn't fulfill the <cond> and would stay. However, the system does not understand order, is non-deterministic in it's processing; this would lead to inconsistency.\n",
    "\n",
    "Fix: Take a snapshot of the table before processing, and all of the <cond> would be evaluated using the snapshot of the table. Thus both `Hillcrest Amour` and `Hillcrest 0 dark 30` would get deleted.\n",
    "\n",
    "Reminds me of spreadsheets recognizing circular logic or cell dependency issues and notifying u w/ an error message!\n"
   ]
  },
  {
   "cell_type": "markdown",
   "metadata": {},
   "source": [
    "## Views, Assertions, & Triggers\n",
    "\n",
    "**Views**: mechanism for customizing the database; also used for creating temporary virtual tables\n",
    "\n",
    "**Assertions**: provide a mean to specify additional constraints\n",
    "\n",
    "**Triggers**: are a special kind of assertions; they define actions to be taken when certain conditions occur"
   ]
  },
  {
   "cell_type": "markdown",
   "metadata": {},
   "source": [
    "### Basic DBMS Architecture\n",
    "\n",
    "![](images/2022-10-25-21-04-23.png)"
   ]
  },
  {
   "cell_type": "markdown",
   "metadata": {},
   "source": [
    "### Views\n",
    "\n",
    "**Use Case**: situatiosn where it is not desirable for all users to see the entire logical model (i.e. all relations stored in DB)\n",
    "\n",
    "> consider a person who needs to know customers' loan numbers but has no need to see the loan ammounts. This person should see a relation described, in SQL, by:\n",
    "\n",
    "```sql\n",
    "SELECT\tcustomer_name, loan_number\n",
    "FROM    customer c, borrower b\n",
    "WHERE\tc.customer_id = b.customer_id\n",
    "```\n",
    "\n",
    "Mechanism for \n",
    "- Hiding\n",
    "- Restructuring\n",
    "\n",
    "Any relation that is not in the database schema but is made visible to the user as a \"virtual relation\" is called a **view**"
   ]
  },
  {
   "cell_type": "markdown",
   "metadata": {},
   "source": [
    "#### View Definition\n",
    "\n",
    "**Syntax**\n",
    "\n",
    "```sql\n",
    "CREATE VIEW V as <query expression>\n",
    "```\n",
    "\n",
    "- V: view name\n",
    "    - opt. list of attrib. names\n",
    "- <query expression>: any legal SQL query\n",
    "\n",
    "**Notes**\n",
    "- Once defined, view name can be used in queries just as any other relation\n",
    "- Only limited updates can be applied to views (explained later)\n",
    "- View Definition is NOT the same as creating a new relation by evaluating the query expression. view contents **changes automatically when the database is updated**"
   ]
  },
  {
   "cell_type": "markdown",
   "metadata": {},
   "source": [
    "#### Example\n",
    "\n",
    "View consisting of bank branches and all their cusomters\n",
    "\n",
    "```sql\n",
    "CREATE VIEW all_customers AS\n",
    "\n",
    "(\n",
    "    SELECT  branch_name, customer_id\n",
    "    FROM    depositor d, account a\n",
    "    WHERE   d.account_number = a.account_number\n",
    ")\n",
    "\n",
    "UNION\n",
    "\n",
    "(\n",
    "    SELECT  branch_name, customer_id\n",
    "    FROM    borrower b, loan l\n",
    "    WHERE   b.loan_number = l.loan_number\n",
    ")\n",
    "```\n",
    "\n",
    "Example of using the view in a query:\n",
    "\n",
    "Find all customers of the La Jolla branch\n",
    "\n",
    "```sql\n",
    "SELECT\tcustomer_id\n",
    "FROM\tall_customers               -- virtual, system will lazily compute the filter & projection\n",
    "WHERE\tbranch_name = 'La Jolla'\n",
    "```"
   ]
  },
  {
   "cell_type": "markdown",
   "metadata": {},
   "source": [
    "#### Views defined using other views\n",
    "\n",
    "One view may be used in the expression defining another view\n",
    "\n",
    "> Actually happens a lot in practice, often times the views don't even know they're using another view to evaluate expressions\n",
    "\n",
    "- A view relation $V_1$ is said to **depend directly** on a view relation $V_2$ if $V_2$ is used in the expression defining $V_1$\n",
    "\n",
    "- A iew relation $V_1$ is said to **depend on** view relation $V_2$ if either $V_1$ **depends directly** to $V_2$ or there is a path of dependencies from $V_1$ to $V_2$\n",
    "\n",
    "- A view relation $V$ is said to be **recursive** if it depends on itself (will be discussed in depth later on...)\n",
    "\n"
   ]
  },
  {
   "cell_type": "markdown",
   "metadata": {},
   "source": [
    "#### Views can simplify complex queries \n",
    "\n",
    "EX: Find actors playing in every movie by \"Berto\"\n",
    "\n",
    "```sql\n",
    "CREATE VIEW Berto-Movies AS\n",
    "    SELECT\tActor\n",
    "    FROM\tMovie\n",
    "    WHERE\tDirector = \"Berto\"\n",
    "```\n",
    "\n",
    "```sql\n",
    "CREATE VIEW Not-All-Berto AS\n",
    "    SELECT\tm.Actor\n",
    "    FROM\tMovie m, Berto-Movies\n",
    "    WHERE\tBerto-Movies.Title NOT IN (\n",
    "            SELECT  Title\n",
    "            FROM    Movies\n",
    "            WHERE   Actor = m.Actor\n",
    "    )\n",
    "```\n",
    "\n",
    "```sql\n",
    "SELECT  Actor\n",
    "FROM    Movies\n",
    "WHERE   Actor NOT IN (\n",
    "        SELECT  *\n",
    "        FROM    Not-All-Berto\n",
    ")\n",
    "```"
   ]
  },
  {
   "cell_type": "markdown",
   "metadata": {},
   "source": [
    "#### Another sytnax: WITH clause\n",
    "\n",
    "WITH: works syntactically almost identitcal to the CREATE VIEW statement\n",
    "\n",
    "> Note: will only create temporary tables, not views\n",
    "\n",
    "```sql\n",
    "WITH Berto-Movies AS\n",
    "    SELECT\tActor\n",
    "    FROM\tMovie\n",
    "    WHERE\tDirector = \"Berto\"\n",
    "```\n",
    "\n",
    "```sql\n",
    "WITH Not-All-Berto AS\n",
    "    SELECT\tm.Actor\n",
    "    FROM\tMovie m, Berto-Movies\n",
    "    WHERE\tBerto-Movies.Title NOT IN (\n",
    "            SELECT  Title\n",
    "            FROM    Movies\n",
    "            WHERE   Actor = m.Actor\n",
    "    )\n",
    "```\n",
    "\n",
    "```sql\n",
    "SELECT  Actor\n",
    "FROM    Movies\n",
    "WHERE   Actor NOT IN (\n",
    "        SELECT  *\n",
    "        FROM    Not-All-Berto\n",
    ")\n",
    "```\n",
    "\n",
    "> Note: will only create temporary tables, not views"
   ]
  },
  {
   "cell_type": "markdown",
   "metadata": {},
   "source": [
    "#### Efficient view implementation\n",
    "\n",
    "**Materialized views**\n",
    "\n",
    "Physically create and maintain a view table\n",
    "\n",
    "Assumption: other queries on the view will follow\n",
    "\n",
    "Concerns: maintaining correspondance between the base table and the view when the base table is updated\n",
    "\n",
    "Strategy: incremental updates\n",
    "\n",
    "> note: will already be computed when called upon in other queries so will be much faster\n",
    "\n",
    "**Virtual views**\n",
    "\n",
    "Never physicaly created: Answer queries on the view by reformulating it as a query on the underlying base tables (by replacing the views by their definitions)\n",
    "\n",
    "Disadvantage: Inefficient for views defined via complex queries (especially if additional queries are to be applied to the view within a short time period)\n",
    "\n",
    "Advantage: No need to maintain correspondance with base tables\n",
    "\n",
    "> This process is known as **view unfolding**"
   ]
  },
  {
   "cell_type": "markdown",
   "metadata": {},
   "source": [
    "##### Query answering in the presence of virtual views\n",
    "\n",
    "![](images/2022-10-25-21-32-57.png)"
   ]
  },
  {
   "cell_type": "markdown",
   "metadata": {},
   "source": [
    "##### Examples of View Unfoldign:\n",
    "\n",
    "![](images/2022-10-25-21-33-36.png)"
   ]
  },
  {
   "cell_type": "markdown",
   "metadata": {},
   "source": [
    "![](images/2022-10-25-21-34-00.png)"
   ]
  },
  {
   "cell_type": "markdown",
   "metadata": {},
   "source": [
    "![](images/2022-10-25-21-35-38.png)"
   ]
  }
 ],
 "metadata": {
  "kernelspec": {
   "display_name": "Python 3.10.1 64-bit",
   "language": "python",
   "name": "python3"
  },
  "language_info": {
   "name": "python",
   "version": "3.10.1"
  },
  "orig_nbformat": 4,
  "vscode": {
   "interpreter": {
    "hash": "40430081c420884bc0c6cacdd19468c594457515a272ed1024804e3b83ddb8db"
   }
  }
 },
 "nbformat": 4,
 "nbformat_minor": 2
}

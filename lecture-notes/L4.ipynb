{
 "cells": [
  {
   "cell_type": "markdown",
   "metadata": {},
   "source": [
    "## SQL DML: Basic Form\n",
    "\n",
    "**Syntax**:\n",
    "- SELECT attribName1, ..., attribNameN\n",
    "\n",
    "- FROM relationName1, ..., relationNameN\n",
    "\n",
    "- (opt) WHERE condition\n",
    "\n",
    "Notation `<RelationName>.<AttributeName>`\n",
    "\n",
    "Whem more than one relation of the FROM attribute named `A`, we refer to a specific `A` attribute as `<RelationName>.A`"
   ]
  },
  {
   "cell_type": "markdown",
   "metadata": {},
   "source": [
    "### SQL Query Examples\n",
    "\n",
    "Find titles of currently plaing movies\n",
    "\n",
    "SELECT Title\\\n",
    "FROM Scedule\n",
    "\n",
    "Find titles of all movies by \"Berto\"\n",
    "\n",
    "SELECT Title\\\n",
    "FROM Movie\\\n",
    "WHERE Director=\"Berto\"\n",
    "\n",
    "Fnd the titles and the directors of all currently playing movies\n",
    "\n",
    "SELECT Movie.Title, Director\n",
    "FROM Movie, Schehdule\n",
    "WHERE Movie.Title = Schedule.Title"
   ]
  },
  {
   "cell_type": "markdown",
   "metadata": {},
   "source": []
  },
  {
   "cell_type": "markdown",
   "metadata": {},
   "source": []
  },
  {
   "cell_type": "markdown",
   "metadata": {},
   "source": []
  },
  {
   "cell_type": "markdown",
   "metadata": {},
   "source": []
  },
  {
   "cell_type": "markdown",
   "metadata": {},
   "source": []
  },
  {
   "cell_type": "markdown",
   "metadata": {},
   "source": []
  },
  {
   "cell_type": "markdown",
   "metadata": {},
   "source": []
  },
  {
   "cell_type": "markdown",
   "metadata": {},
   "source": []
  },
  {
   "cell_type": "markdown",
   "metadata": {},
   "source": []
  },
  {
   "cell_type": "markdown",
   "metadata": {},
   "source": []
  },
  {
   "cell_type": "markdown",
   "metadata": {},
   "source": []
  },
  {
   "cell_type": "markdown",
   "metadata": {},
   "source": []
  },
  {
   "cell_type": "markdown",
   "metadata": {},
   "source": []
  },
  {
   "cell_type": "markdown",
   "metadata": {},
   "source": []
  }
 ],
 "metadata": {
  "kernelspec": {
   "display_name": "Python 3.10.1 64-bit",
   "language": "python",
   "name": "python3"
  },
  "language_info": {
   "name": "python",
   "version": "3.10.1"
  },
  "orig_nbformat": 4,
  "vscode": {
   "interpreter": {
    "hash": "40430081c420884bc0c6cacdd19468c594457515a272ed1024804e3b83ddb8db"
   }
  }
 },
 "nbformat": 4,
 "nbformat_minor": 2
}

{
 "cells": [
  {
   "cell_type": "markdown",
   "metadata": {},
   "source": [
    "# JDBC\n",
    "\n",
    "Java DataBase Connectivity Standard \n",
    "\n",
    "standardizes the Java API that a database product must implement s.t. that a Java program can \n",
    "- open a connection\n",
    "- send SQL queries\n",
    "- recieve returned tupples as Java objects conforming to a certain API s.t. that they can be post processed w/ Java code\n",
    "\n",
    "Not a new concept: Launching SQL inquiries from host lang and post processing those results was first done in C++\n",
    "- ODBC (Microsoft standard, Object DB Connectivity)\n",
    "- Another obscure standard. However both are outdated and were more mentioned as a history lesson"
   ]
  },
  {
   "cell_type": "markdown",
   "metadata": {},
   "source": [
    "## Three-Tier Architecture\n",
    "\n",
    "![](images/2022-10-25-21-41-52.png)\n",
    "\n"
   ]
  },
  {
   "cell_type": "markdown",
   "metadata": {},
   "source": [
    "CSE 132B: DB applications (sp 23)\n",
    "- focuses on the upper 2 tiers of this arch\n",
    "- building websites built on top of DB server\n",
    "\n",
    "CSE 132A: curr\n",
    "- focuses on the bottom tier of this arch\n",
    "\n",
    "![](images/2022-11-10-09-24-17.png)\n"
   ]
  },
  {
   "cell_type": "markdown",
   "metadata": {},
   "source": [
    "![](images/2022-11-10-09-35-26.png)\n",
    "\n",
    "JDBC driver provided by the vendor implementing SQL standards.\n",
    "- either interacts directly w/ DB server\n",
    "- or interacts w/ DB middleware that would interact w/ DB server\n",
    "\n",
    "> EX use case of middleware: Could be useful in integrating tables that come from multiple servers, gives the impression of a centralized database server"
   ]
  },
  {
   "cell_type": "markdown",
   "metadata": {},
   "source": [
    "JDBC EX\n",
    "\n",
    "```java\n",
    "// import JDBC\n",
    "import java.sql.*;\n",
    "\n",
    "class JdbcTest {\n",
    "    public static void main (String args[]) throws SQLException, ClassNotFoundException {\n",
    "        // Load PostgreSQL driver\n",
    "        Class.forName(\"org.postgresql.Driver\");\\\n",
    "\n",
    "        // Connect to the local database\n",
    "        Connection conn = DriverManager.getConnection(\n",
    "            \"djbc:postgresql://hostname:port/dbname\",\n",
    "            \"username\",\n",
    "            \"password\"\n",
    "        )\n",
    "\n",
    "        // Execute query asking for student names\n",
    "        Statement stmt = conn.createStatement();\n",
    "        ResultSet rset = stmt.executeQuery(\"SELECT age, name FROM Student\");\n",
    "\n",
    "        // Print the name out (name is the 2nd attribute of Student)\n",
    "        while (rset.next())\n",
    "            System.out.println(rset.getString(2));\n",
    "\n",
    "        // Close the result set, statement, and the connection\n",
    "        rset.close();\n",
    "        stmt.close();\n",
    "        conn.close();\n",
    "    }\n",
    "}\n",
    "```"
   ]
  },
  {
   "cell_type": "markdown",
   "metadata": {},
   "source": [
    "## SQL Injection\n",
    "\n",
    "`executeQuery` method has problems due to lack of proecssing/cleaning the passed in input string:\n",
    "\n",
    "1. Might not be valid SQL and cause crashes/errors\n",
    "2. SQL Injection Atk. Malicious string will cause DB system to execute instructions that we might not want the user to be able to execute\n",
    "\n",
    "Example:\n",
    "\n",
    "```java\n",
    "// ssn = whatever user typed into the user interface\n",
    "\n",
    "String query = \"SELECT FROM student s\n",
    "                WHERE s.ssn = \" + ssn + \";\";\n",
    "stmt.executeQuery(query)\n",
    "```\n",
    "\n",
    "What if user typed in `\"123456; DELETE FROM students\"`?\n",
    "\n",
    "```java\n",
    "String query = \"SELECT FROM student s\n",
    "                WHERE s.ssn = \" + \"123456; DELETE FROM students\" + \";\"; \n",
    "```\n",
    "\n",
    "Which would cause the server to execute the following:\n",
    "```sql\n",
    "SELECT FROM student s\n",
    "WHERE s.ssn = 123456;\n",
    "DELETE FROM students\n",
    "```\n",
    "\n",
    "Malicious user can sneak in extra code to do stuff like delete information, leak information, etc."
   ]
  },
  {
   "cell_type": "markdown",
   "metadata": {},
   "source": [
    "## PreparedStatement Object\n",
    "\n",
    "If you want to execute a STateent object many times, it will normally reduce execution time to use a PreparedStatement object instead (in addition to guarding against SQL Injection)\n",
    "\n",
    "```java\n",
    "// Create PreparedStatement\n",
    "// '?' contains parameters\n",
    "PreparedStatement updateStud = \n",
    "    conn.prepareStatement(\"UPDATE Student SET name = ?\n",
    "    WHERE lastname LIKE ?\");\n",
    "\n",
    "// Instantiate parameters and execute the PreparedStatement\n",
    "updateStud.setString(1, \"John\");\n",
    "updateStud.setString(2, \"Smith\");\n",
    "\n",
    "updateStud.executeUpdate();\n",
    "```\n",
    "\n",
    "Use case: a lot of users interacting w/ website.\n",
    "\n",
    "Sending just args to the db is computationally cheaper than sending entire queries: less parsing, compiling, optimizing the query"
   ]
  },
  {
   "cell_type": "markdown",
   "metadata": {},
   "source": [
    "EX: these 2 do the same thing (assuming non malicious user)\n",
    "\n",
    "```java\n",
    "String updateString = \"UPDATE COFFEES SET SALES = 75\" + \"WHERE COF_NAME LIKE 'Colombian'\";\n",
    "stmtm.executeUpdate(updateString)\n",
    "```\n",
    "\n",
    "```java\n",
    "PreparedStatement updateSales = con.prepareStatement(\"UPDATE COFFEES SET SALES = ? WHERE COF_NAME LIKE ?\");\n",
    "updateSales.setInt(1, 75);\n",
    "updateSales.setString(2, \"Colombian\");\n",
    "updateSales.executeUpdate();\n",
    "```"
   ]
  },
  {
   "cell_type": "markdown",
   "metadata": {},
   "source": [
    "### Retrieving values from a ResultSet\n",
    "\n",
    "> Recall that Java has no knowledge of your DB schema, so improper queries will only get punished at runtime\n",
    "\n",
    "Retrieves the values of the designated column in the current row of this ResultSet object as an int in Java.\n",
    "\n",
    "- `int getInt(int columnIndex)`\n",
    "- `int getInt(String columnName)`\n",
    "\n",
    "Retrieves the value of the designated column in the current row of this ResultSet object as a string in Java.\n",
    "\n",
    "- `String getString(int columnIndex)`\n",
    "- `String getString(String columnName)`"
   ]
  },
  {
   "cell_type": "markdown",
   "metadata": {},
   "source": [
    "### Using Transactions\n",
    "\n",
    "When a connection is created, it is in auto-commit mode. This means that each individual SQL statment is treated as a transaction and will be automatically committed right after it is executed. To create transactions, do the following:\n",
    "\n",
    "```java\n",
    "conn.setAutoCommit(false);\n",
    "// ...\n",
    "// transaction here\n",
    "// ...\n",
    "conn.commit();\n",
    "conn.setAutoCommit(true);\n",
    "```\n",
    "\n",
    "Basically, controlling the atomicity of SQL statments. Use case? Transferring money from checkings to savings. Any error in between a non-transactional set of queries might result in deductions from checkings without updating the credits into savings."
   ]
  },
  {
   "cell_type": "markdown",
   "metadata": {},
   "source": [
    "### Catching Exceptions\n",
    "\n",
    "JDBC lets you see the warnings and exceptions generated by you DMBS and by the java compiler. To see exceptions, you can have a catch block print them out:\n",
    "\n",
    "```java\n",
    "try {\n",
    "    // Code that could gen exception here\n",
    "} catch(SQLException ex) {\n",
    "    // Catch block to print out info about caught exceptions\n",
    "    System.err.println(\"SQLException: \" + ex.getMessage());\n",
    "}\n",
    "```"
   ]
  }
 ],
 "metadata": {
  "kernelspec": {
   "display_name": "Python 3.10.1 64-bit",
   "language": "python",
   "name": "python3"
  },
  "language_info": {
   "name": "python",
   "version": "3.10.4"
  },
  "orig_nbformat": 4,
  "vscode": {
   "interpreter": {
    "hash": "40430081c420884bc0c6cacdd19468c594457515a272ed1024804e3b83ddb8db"
   }
  }
 },
 "nbformat": 4,
 "nbformat_minor": 2
}

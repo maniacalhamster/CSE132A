{
 "cells": [
  {
   "cell_type": "markdown",
   "metadata": {},
   "source": [
    "# JDBC\n",
    "\n",
    "Java DataBae Connectivity Standard \n",
    "\n",
    "standardizes the Java API that a database product must implement s.t. that a Java program can \n",
    "- open a connection\n",
    "- send SQL queries\n",
    "- recieve returned tupples as Java objects conforming to a certain API s.t. that they can be post processed w/ Java code\n",
    "\n",
    "Not a new concept: Launching SQL inquiries from host lang and post processing those results was first done in C++\n",
    "- ODBC (Microsoft standard, Object DB Connectivity)\n",
    "- Another obscure standard. However both are outdated and were more mentioned as a history lesson"
   ]
  },
  {
   "cell_type": "markdown",
   "metadata": {},
   "source": [
    "## Three-Tier Architecture\n",
    "\n",
    "![](images/2022-10-25-21-41-52.png)"
   ]
  },
  {
   "cell_type": "markdown",
   "metadata": {},
   "source": [
    "12:35 timestamp into OCT 21 Lecture"
   ]
  }
 ],
 "metadata": {
  "kernelspec": {
   "display_name": "Python 3.10.1 64-bit",
   "language": "python",
   "name": "python3"
  },
  "language_info": {
   "name": "python",
   "version": "3.10.1"
  },
  "orig_nbformat": 4,
  "vscode": {
   "interpreter": {
    "hash": "40430081c420884bc0c6cacdd19468c594457515a272ed1024804e3b83ddb8db"
   }
  }
 },
 "nbformat": 4,
 "nbformat_minor": 2
}

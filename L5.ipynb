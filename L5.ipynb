{
 "cells": [
  {
   "cell_type": "markdown",
   "metadata": {},
   "source": [
    "# SQL DML: Basic Form\n",
    "\n",
    "Recap on Syntax:\n",
    "\n",
    "```\n",
    "SELECT attr, ..., attr\n",
    "FROM relation, ..., relation\n",
    "WHERE condition\n",
    "```\n",
    "\n",
    "Using `<Relation>.<Attribute>` when relations share attribute"
   ]
  },
  {
   "cell_type": "markdown",
   "metadata": {},
   "source": [
    "## Tuple Variables\n",
    "\n",
    "\"Name\" relations in the FROM clause. **Needed** when using same relation more than once in FROM clause to resolve ambiguity (otherwise will compare against itself)\n",
    "\n",
    "*e.g. find actors who are also directors*\n",
    "\n",
    "Syntax:\n",
    "```sql\n",
    "SELECT t.Actor\n",
    "FROM Movie t, Movie s\n",
    "WHERE t.Actor = s.Director\n",
    "```\n",
    "\n",
    "Semantics:\n",
    "```py\n",
    "for each t in Movie\n",
    "  for each s in Movie\n",
    "    if t(Actor) == s(Director)\n",
    "      then output t(Actor)\n",
    "```"
   ]
  },
  {
   "cell_type": "markdown",
   "metadata": {},
   "source": [
    "### Example revisited\n",
    "\n",
    "w/o tuple vars:\n",
    "```sql\n",
    "SELECT Title\n",
    "FROM Movie\n",
    "WHERE Director = \"Berto\"\n",
    "```\n",
    "\n",
    "w/ tuple vars:\n",
    "```sql\n",
    "SELECT m.Title\n",
    "FROM Movie m\n",
    "WHERE m.Director = \"Berto\"\n",
    "```"
   ]
  },
  {
   "cell_type": "markdown",
   "metadata": {},
   "source": [
    "### Example revisited 2\n",
    "\n",
    "w/o tuple vars:\n",
    "```sql\n",
    "SELECT Movie.Title, Director\n",
    "FROM Movie, Schedule\n",
    "WHERE Movie.Title = Schedule.Title\n",
    "```\n",
    "\n",
    "w/ tuple vars:\n",
    "```sql\n",
    "SELECT m.Title, m.Director\n",
    "FROM Movie m, Schedule s\n",
    "WHERE m.Title = s.Title\n",
    "```"
   ]
  },
  {
   "cell_type": "markdown",
   "metadata": {},
   "source": [
    "> Above 2 examples revisted are more of preference/choice/taste. Original are more concise."
   ]
  },
  {
   "cell_type": "markdown",
   "metadata": {},
   "source": [
    "## Wildcard *\n",
    "\n",
    "Selects all attributes\n",
    "\n",
    "EX: Retrieve all movie attributes of currently playing movies\n",
    "\n",
    "```sql\n",
    "SELECT Movie.*\n",
    "FROM Movie, Schedule\n",
    "WHERE Movie.Title = Schedule.Title\n",
    "```"
   ]
  },
  {
   "cell_type": "markdown",
   "metadata": {},
   "source": [
    "## LIKE Keyword\n",
    "\n",
    "Used to express **pattern matching conditions**\n",
    "\n",
    "`<sttr> LIKE <pattern>`\n",
    "\n",
    "EX: Retrieve all movies where the title starts with \"Ta\"\n",
    "\n",
    "```sql\n",
    "SELECT *\n",
    "FROM Movie\n",
    "WHERE Title LIKE 'Ta%'\n",
    "```\n",
    "\n",
    "> `%` is arbitrary string\n",
    "\n",
    "EX: Forgot if \"Polanski\" is spelled w/ an i or a y\n",
    "\n",
    "```sql\n",
    "SELECT *\n",
    "FROM Movie\n",
    "WHERE Director LIKE 'Polansk_'\n",
    "```\n",
    "\n",
    "> `_` is arbitrary character\n"
   ]
  },
  {
   "cell_type": "markdown",
   "metadata": {},
   "source": [
    "## DISTINCT Keyword\n",
    "\n",
    "Eliminates duplicate results\n",
    "\n",
    "```sql\n",
    "SELECT DISTINCT ...\n",
    "FROM ...\n",
    "WHERE ...\n",
    "```"
   ]
  },
  {
   "cell_type": "markdown",
   "metadata": {},
   "source": [
    "## ORDER BY clause\n",
    "\n",
    "Used to **order** the *display* of tuples in the result. Permutation of result is displayed, the result is not affected.\n",
    "\n",
    "EX: List all titles and actors of movies by Fellini, in alphabetical order of titles\n",
    "\n",
    "```sql\n",
    "SELECT Title, Actor\n",
    "FROM Movie\n",
    "WHERE Director = 'Fellini'\n",
    "ORDER BY Title\n",
    "```\n",
    "\n",
    "Can specify order for each attribute\n",
    "- DESC\n",
    "- ASC (default)\n",
    "\n",
    "e.g. `ORDER BY Title DESC`"
   ]
  },
  {
   "cell_type": "markdown",
   "metadata": {},
   "source": [
    "## AS Keyword\n",
    "\n",
    "Used to **rename attributes** in the result\n",
    "\n",
    "EX: Find titles of movies by Bertolucci, under attribute Berto-title:\n",
    "\n",
    "```sql\n",
    "SELECT title AS Berto-title\n",
    "FROM movie\n",
    "WHERE director=Bertolucci\n",
    "```"
   ]
  },
  {
   "cell_type": "markdown",
   "metadata": {},
   "source": [
    "# Aggregate Functions\n",
    "\n",
    "Operate on the multiset of values of a column of a relation, and return **a single** value\n",
    "\n",
    "- **avg**\n",
    "- **min**\n",
    "- **max**\n",
    "- **sum**\n",
    "- **count**\n",
    "\n",
    "typically work with a collection type input"
   ]
  },
  {
   "cell_type": "markdown",
   "metadata": {},
   "source": [
    "## Examples\n",
    "\n",
    "Find the average account balance at the La Jolla branch\n",
    "\n",
    "```sql\n",
    "SELECT avg(balance)\n",
    "FROM account\n",
    "WHERE branch_name='La Jolla'\n",
    "```\n",
    "\n",
    "Find the number of tuples in the customer relation\n",
    "\n",
    "```sql\n",
    "SELECT count(*)\n",
    "FROM customer\n",
    "```\n",
    "\n",
    "Find the number of depositors in the bank\n",
    "\n"
   ]
  }
 ],
 "metadata": {
  "kernelspec": {
   "display_name": "Python 3.10.1 64-bit",
   "language": "python",
   "name": "python3"
  },
  "language_info": {
   "name": "python",
   "version": "3.10.1"
  },
  "orig_nbformat": 4,
  "vscode": {
   "interpreter": {
    "hash": "40430081c420884bc0c6cacdd19468c594457515a272ed1024804e3b83ddb8db"
   }
  }
 },
 "nbformat": 4,
 "nbformat_minor": 2
}

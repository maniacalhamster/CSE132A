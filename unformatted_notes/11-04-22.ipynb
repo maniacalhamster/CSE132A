{
 "cells": [
  {
   "cell_type": "markdown",
   "metadata": {},
   "source": [
    "`TODO: REVISIT THE FIRST 10 MINUTES OF LECTURE THAT YOU WERE LATE TO`"
   ]
  },
  {
   "cell_type": "markdown",
   "metadata": {},
   "source": [
    "### Movie Examples Revisited\n",
    "\n",
    "Find actors playing in **every** movie by Berto\n",
    "\n",
    "{a: actor | $\\exists$ y $\\in$ movie [a(actor) = y(actor) ^\\\\\n",
    "            $\\forall$ m $\\in$ movie [m(director) = \"Berto\" $\\rightarrow$\\\\\n",
    "            $\\exists$ t $\\in$ movie (m(title) = t(title) ^ t(actor) = y(actor))]]}\n",
    "\n",
    "as opposed to `TODO: GO OVER THE OTHER EXAMPLE AND WHY IT DOESN'T WORK`"
   ]
  },
  {
   "cell_type": "markdown",
   "metadata": {},
   "source": [
    "#### Is this correct?\n",
    "\n",
    "{a: actor | $\\exists$ y $\\in$ movie [a(actor) = y(actor) ^ \\\n",
    "            $\\forall$ m $\\in$ movie $\\exists$ t $\\in$ movie [m(director) = \"Berto\" $\\rightarrow$ (m(title) = t(title) ^ t(actor) = y(actor))]]}\n",
    "\n",
    "Yes it's correct.\n",
    "\n",
    "`TODO: GO OVER THE OTHER EXAMPLES IN THE SLIDES` "
   ]
  },
  {
   "cell_type": "markdown",
   "metadata": {},
   "source": [
    "#### What about if we swapped it?\n",
    "\n",
    "{a: actor | $\\exists$ y $\\in$ movie [a(actor) = y(actor) ^ \\\n",
    "            $\\exists$ t $\\in$ movie $\\forall$ m $\\in$ movie [m(director) = \"Berto\" $\\rightarrow$ (m(title) = t(title) ^ t(actor) = y(actor))]]}\n",
    "\n",
    "NO, it doesn't work. \n",
    "\n",
    "`TODO: UNDERSTAND AND EXPAIN IN DEPTH WHY IT DOESN'T WORK AND HOW IT DIFFERS FROM THE OTHER EXAMPLE`"
   ]
  },
  {
   "cell_type": "markdown",
   "metadata": {},
   "source": [
    "## Tuple Calculus and SQL \n",
    "\n",
    "sql:\n",
    "```sql\n",
    "SELECT\ts.theater\n",
    "FROM\tschedule s, movie m\n",
    "WHERE\ts.title = m.title AND m.direcror = \"Bertolucci\"\n",
    "```\n",
    "\n",
    "tuple calculus:\n",
    "\n",
    "{t: theater | $\\exists$ s $\\in$ schedule $\\exists$ m $\\in$ movie [ \\\n",
    "&emsp;t(theater) = s(theater) ^\\\n",
    "&emsp;s(title) = m(title) ^\\\n",
    "&emsp;m(director) = Bertolucci\\\n",
    "]}\n",
    "\n",
    "{t: $A_1, ..., A_n$ | $\\exists r_1 \\in R_1 ... \\exists r_k \\in R_k$ [$^_j t(A_j) = r_{ij}(A_j) ^ $ cond($r_1, ..., r_k$)]}\n",
    "\n",
    "`TODO: revisit slides and understand`"
   ]
  },
  {
   "cell_type": "markdown",
   "metadata": {},
   "source": [
    "## Formulate SQL queries\n",
    "\n",
    "EX: Find actors playing in every movie by Berto\n",
    "\n",
    "- Tuple calculus\n",
    "\n",
    "- Eliminate $\\forall$\n",
    "\n",
    "- Rule: \n",
    "\n",
    "`TODO: REVISIT SLIDE AND WRITE DOWN NOTES`"
   ]
  },
  {
   "cell_type": "markdown",
   "metadata": {},
   "source": [
    "#### Basic Rule: one level of nesting for each \"`\\neg \\exists`\"\n",
    "\n",
    "`TODO: copy the example on the slide and understand/explain it in notes`"
   ]
  },
  {
   "cell_type": "markdown",
   "metadata": {},
   "source": [
    "#### Another possibility (using not in)\n",
    "\n",
    "`TODO: basically read the entire slide and write down notes`\n",
    "\n",
    "(presentation is going a bit faster than would facilitate note taking, rewatch with a LOT of pauses)"
   ]
  },
  {
   "cell_type": "markdown",
   "metadata": {},
   "source": [
    "# Relational Algebra\n",
    "\n",
    "`TODO: prof did a little intro/speech. Rewatch that and understand what he's saying. Was busy typing out all these TODOs -_-`"
   ]
  },
  {
   "cell_type": "markdown",
   "metadata": {},
   "source": [
    "`TODO: figure out the slide title, it's cutoff in the zoom`\n",
    "\n",
    "3 steps:\n",
    "- Parsing & Translation\n",
    "- Optimization\n",
    "- Evaluation\n",
    "\n",
    "`TODO: visual in the slides that needs to be copied here`"
   ]
  },
  {
   "cell_type": "markdown",
   "metadata": {},
   "source": [
    "**Relational Algebra**: Simple set of algebraic operations on relations\n",
    "\n",
    "`TODO: visual in slides that needs to be copied here`\n",
    "\n",
    "SQL -> relational algebra -> query rewriting\n",
    "\n",
    "query rewriting: Secret Sauce, mostly in the optimizers to rewrite the query to more easily executable ones."
   ]
  },
  {
   "cell_type": "markdown",
   "metadata": {},
   "source": [
    "### Projection\n",
    "\n",
    "Eliminate some columns\n",
    "\n",
    "$\\pi_X(R)$: Display only attributes (X) of relation (R)\n",
    "\n",
    "*where R: table name* and *X $\\subset$ attributes(R)*\n",
    "\n",
    "EX: Find titles of current movies\n",
    "\n",
    "$\\pi_{TITLE}(SCHEDULE)$"
   ]
  },
  {
   "cell_type": "markdown",
   "metadata": {},
   "source": [
    "`TODO: take a screenshot of the example in lecture`"
   ]
  },
  {
   "cell_type": "markdown",
   "metadata": {},
   "source": [
    "## Selection\n",
    "\n",
    "Compute set union\n",
    "\n",
    "$\\sigma_{cond}(R)$: Select tuples of (R) satisfying condition (cond)\n",
    "\n",
    "*where cond: condition involving only attributes of R\\\n",
    "(e.g. attr = value, attr $\\neq$ value, attr1 = attr2, attr1 $\\neq$ attr2)*\n",
    "\n",
    "`TODO: screenshot example`\n",
    "\n",
    "`TODO: screenshot the other example`"
   ]
  },
  {
   "cell_type": "markdown",
   "metadata": {},
   "source": [
    "## Union\n",
    "\n",
    "Compute set union\n",
    "\n",
    "$R\\cup S$: Union of sets of tuples in R and S\n",
    "\n",
    "*where R,S: tables w/ same attributes* (recall the SQL \"union compatible\" relations)\n",
    "\n",
    "`TODO: screenshot example`"
   ]
  },
  {
   "cell_type": "markdown",
   "metadata": {},
   "source": [
    "## Difference\n",
    "\n",
    "$R - S$: Difference of sets of tuples in R and S\n",
    "\n",
    "*where R, S: tables with same attributes* (recall the SQL \"union compatible\" relations)\n",
    "\n",
    "`TODO: screenshot example`"
   ]
  },
  {
   "cell_type": "markdown",
   "metadata": {},
   "source": [
    "## Join\n",
    "\n",
    "Compute join\n",
    "\n",
    "$R \\bowtie S$: Natural Join of R, S\n",
    "\n",
    "*where R, S: tables* \n",
    "\n",
    "`TODO: screenshot example`\n",
    "\n",
    "`TODO: write note`\n",
    "\n",
    "`TODO: screenshot example`"
   ]
  },
  {
   "cell_type": "markdown",
   "metadata": {},
   "source": [
    "`TODO: go over the whole \"Definition of Join\" slide`\n",
    "\n",
    "Note: if $R\\cap S$ is empty, the join consists of `TODO: finish the note`"
   ]
  },
  {
   "cell_type": "markdown",
   "metadata": {},
   "source": [
    "## Attribute Renaming\n",
    "\n",
    "$\\delta_{A_1 \\rightarrow A_2} (R)$: Change name of attribute A1 in relation (R) to A2\n",
    "\n",
    "`TODO: finish the rest of the notes for this slide`"
   ]
  },
  {
   "cell_type": "markdown",
   "metadata": {},
   "source": [
    "# Recap\n",
    "\n",
    "Basic set of operations:\n",
    "\n",
    "Back to movie example queries:\n",
    "\n",
    "1. Title of currently playing movies:\n",
    "\n",
    "$$ \\pi_{TITLE}(schedule)$$\n",
    "\n",
    "2. Titles of movies by Berto:\n",
    "\n",
    "$$ \\pi_{TITLE}(\\sigma_{DIR = BERTO}(movie))$$\n",
    "\n",
    "> Interesting bit is that you can nest the relational algebra statements so long as inp/out match\n",
    "\n",
    "3. Titles and directors of currently playing movies:\n",
    "\n",
    "$$ \\pi_{TITLE, DIR} (movie \\bowtie schedule) $$"
   ]
  },
  {
   "cell_type": "markdown",
   "metadata": {},
   "source": []
  }
 ],
 "metadata": {
  "kernelspec": {
   "display_name": "Python 3.10.1 64-bit",
   "language": "python",
   "name": "python3"
  },
  "language_info": {
   "name": "python",
   "version": "3.10.1"
  },
  "orig_nbformat": 4,
  "vscode": {
   "interpreter": {
    "hash": "40430081c420884bc0c6cacdd19468c594457515a272ed1024804e3b83ddb8db"
   }
  }
 },
 "nbformat": 4,
 "nbformat_minor": 2
}

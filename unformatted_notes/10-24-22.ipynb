{
 "cells": [
  {
   "cell_type": "markdown",
   "metadata": {},
   "source": [
    "> note: You can think of nested queries in terms of nested loops\n",
    "- Within the bodies of any nested queries, you can refer to any tuple vars for which you are in the scope of"
   ]
  },
  {
   "cell_type": "markdown",
   "metadata": {},
   "source": [
    "```sql\n",
    "SELECT  a.actor                             -- Outermost loop A\n",
    "FROM    movie a                             -- Find actors that acted in all movies by Berto\n",
    "WHERE   NOT EXISTS (\n",
    "    SELECT  *                               -- Inner loop M\n",
    "    FROM    movie m                         -- Finds titles directed by Berto that A actor did not act in\n",
    "    WHERE   m.director = 'Berto' AND\n",
    "            NOT EXISTS (\n",
    "                SELECT  *                   -- Inner most query T will do a \"join\" relating tuples in A and M\n",
    "                FROM    movie t             \n",
    "                WHERE   m.title = t.title   -- M loops filters titles by Berto; T joiner loop connector actor\n",
    "                AND     a.actor = t.actor   -- A loops actor; T joiner loops connector actor\n",
    "            )\n",
    ")\n",
    "```"
   ]
  },
  {
   "cell_type": "markdown",
   "metadata": {},
   "source": []
  }
 ],
 "metadata": {
  "language_info": {
   "name": "python"
  },
  "orig_nbformat": 4
 },
 "nbformat": 4,
 "nbformat_minor": 2
}

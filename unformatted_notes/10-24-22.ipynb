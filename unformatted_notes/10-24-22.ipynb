{
 "cells": [
  {
   "cell_type": "markdown",
   "metadata": {},
   "source": [
    "> note: You can think of nested queries in terms of nested loops\n",
    "- Within the bodies of any nested queries, you can refer to any tuple vars for which you are in the scope of"
   ]
  },
  {
   "cell_type": "markdown",
   "metadata": {},
   "source": [
    "```sql\n",
    "SELECT  a.actor                             -- Outermost loop A\n",
    "FROM    movie a                             -- Find actors that acted in all movies by Berto\n",
    "WHERE   NOT EXISTS (\n",
    "    SELECT  *                               -- Inner loop M\n",
    "    FROM    movie m                         -- Finds titles directed by Berto that A actor did not act in\n",
    "    WHERE   m.director = 'Berto' AND\n",
    "            NOT EXISTS (\n",
    "                SELECT  *                   -- Inner most query T will do a \"join\" relating tuples in A and M\n",
    "                FROM    movie t             \n",
    "                WHERE   m.title = t.title   -- M loops filters titles by Berto; T joiner loop connector actor\n",
    "                AND     a.actor = t.actor   -- A loops actor; T joiner loops connector actor\n",
    "            )\n",
    ")\n",
    "```"
   ]
  },
  {
   "cell_type": "markdown",
   "metadata": {},
   "source": [
    "The rest of the lecture consisted of reviewing HW1 solutions, which I feel like I shouldn't be posting in a public repo"
   ]
  }
 ],
 "metadata": {
  "kernelspec": {
   "display_name": "Python 3.10.1 64-bit",
   "language": "python",
   "name": "python3"
  },
  "language_info": {
   "name": "python",
   "version": "3.10.1"
  },
  "orig_nbformat": 4,
  "vscode": {
   "interpreter": {
    "hash": "40430081c420884bc0c6cacdd19468c594457515a272ed1024804e3b83ddb8db"
   }
  }
 },
 "nbformat": 4,
 "nbformat_minor": 2
}
